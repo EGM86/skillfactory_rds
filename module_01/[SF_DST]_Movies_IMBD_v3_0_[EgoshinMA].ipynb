{
  "nbformat": 4,
  "nbformat_minor": 0,
  "metadata": {
    "kernelspec": {
      "display_name": "Python 3",
      "language": "python",
      "name": "python3"
    },
    "language_info": {
      "codemirror_mode": {
        "name": "ipython",
        "version": 3
      },
      "file_extension": ".py",
      "mimetype": "text/x-python",
      "name": "python",
      "nbconvert_exporter": "python",
      "pygments_lexer": "ipython3",
      "version": "3.7.4"
    },
    "colab": {
      "name": "[SF-DST] Movies IMBD v3.0 [EgoshinMA].ipynb",
      "provenance": [],
      "collapsed_sections": []
    }
  },
  "cells": [
    {
      "cell_type": "code",
      "metadata": {
        "_cell_guid": "b1076dfc-b9ad-4769-8c92-a6c4dae69d19",
        "_uuid": "8f2839f25d086af736a60e9eeb907d3b93b6e0e5",
        "id": "YjlLt0WD-kH_",
        "colab_type": "code",
        "colab": {}
      },
      "source": [
        "import numpy as np\n",
        "import pandas as pd\n",
        "import seaborn as sns\n",
        "import matplotlib.pyplot as plt\n",
        "import os\n",
        "\n",
        "from collections import Counter"
      ],
      "execution_count": 2,
      "outputs": []
    },
    {
      "cell_type": "code",
      "metadata": {
        "id": "RjVY1f1q-uO3",
        "colab_type": "code",
        "colab": {
          "base_uri": "https://localhost:8080/",
          "height": 35
        },
        "outputId": "eb041fc6-8c97-46b5-9843-642122a230cc"
      },
      "source": [
        "from google.colab import drive\n",
        "drive.mount('/content/drive')"
      ],
      "execution_count": 3,
      "outputs": [
        {
          "output_type": "stream",
          "text": [
            "Drive already mounted at /content/drive; to attempt to forcibly remount, call drive.mount(\"/content/drive\", force_remount=True).\n"
          ],
          "name": "stdout"
        }
      ]
    },
    {
      "cell_type": "code",
      "metadata": {
        "id": "rdEEXZ_o-kID",
        "colab_type": "code",
        "colab": {
          "base_uri": "https://localhost:8080/",
          "height": 431
        },
        "outputId": "f48d4d55-5473-4f97-e5c9-f3c55d93d311"
      },
      "source": [
        "data = pd.read_csv('/content/drive/My Drive/Colab Notebooks/data_SF/module_01/data.csv')\n",
        "data.info()"
      ],
      "execution_count": 4,
      "outputs": [
        {
          "output_type": "stream",
          "text": [
            "<class 'pandas.core.frame.DataFrame'>\n",
            "RangeIndex: 1890 entries, 0 to 1889\n",
            "Data columns (total 16 columns):\n",
            " #   Column                Non-Null Count  Dtype  \n",
            "---  ------                --------------  -----  \n",
            " 0   imdb_id               1890 non-null   object \n",
            " 1   popularity            1890 non-null   float64\n",
            " 2   budget                1890 non-null   int64  \n",
            " 3   revenue               1890 non-null   int64  \n",
            " 4   original_title        1890 non-null   object \n",
            " 5   cast                  1890 non-null   object \n",
            " 6   director              1890 non-null   object \n",
            " 7   tagline               1890 non-null   object \n",
            " 8   overview              1890 non-null   object \n",
            " 9   runtime               1890 non-null   int64  \n",
            " 10  genres                1890 non-null   object \n",
            " 11  production_companies  1890 non-null   object \n",
            " 12  release_date          1890 non-null   object \n",
            " 13  vote_count            1890 non-null   int64  \n",
            " 14  vote_average          1890 non-null   float64\n",
            " 15  release_year          1890 non-null   int64  \n",
            "dtypes: float64(2), int64(5), object(9)\n",
            "memory usage: 236.4+ KB\n"
          ],
          "name": "stdout"
        }
      ]
    },
    {
      "cell_type": "markdown",
      "metadata": {
        "id": "G41eR1jP-kIL",
        "colab_type": "text"
      },
      "source": [
        "# Предобработка датасета"
      ]
    },
    {
      "cell_type": "code",
      "metadata": {
        "id": "XFijgwi9-kIM",
        "colab_type": "code",
        "colab": {}
      },
      "source": [
        "answer_ls = [] # создадим список с ответами. сюда будем добавлять ответы по мере прохождения теста\n",
        "\n",
        "# функция, которая определяет по номеру месяца - время года\n",
        "def season(x):\n",
        "  if x in [12, 1, 2]:\n",
        "    return 'winter'\n",
        "  elif x in [3, 4, 5]:\n",
        "    return 'spring'\n",
        "  elif x in [6, 7, 8]:\n",
        "    return 'summer'\n",
        "  else:\n",
        "    return 'autumn'\n",
        "\n",
        "# создадим колонки с релизами в разрезе номера месяца и времени года\n",
        "data['release_date'] = pd.to_datetime(data['release_date'])\n",
        "data['release_month'] = data['release_date'].dt.month\n",
        "data['release_season'] = data['release_month'].apply(season)\n",
        "\n",
        "# колонка с расчетом дохода\n",
        "data['profit'] = data.revenue - data.budget"
      ],
      "execution_count": 5,
      "outputs": []
    },
    {
      "cell_type": "markdown",
      "metadata": {
        "id": "2-tesb4j-kIQ",
        "colab_type": "text"
      },
      "source": [
        "# 1. У какого фильма из списка самый большой бюджет?\n",
        "Варианты ответов:\n",
        "1. The Dark Knight Rises (tt1345836)\n",
        "2. Spider-Man 3 (tt0413300)\n",
        "3. Avengers: Age of Ultron (tt2395427)\n",
        "4. The Warrior's Way\t(tt1032751)\n",
        "5. Pirates of the Caribbean: On Stranger Tides (tt1298650)"
      ]
    },
    {
      "cell_type": "code",
      "metadata": {
        "id": "mQkPpx6e-kIQ",
        "colab_type": "code",
        "colab": {
          "base_uri": "https://localhost:8080/",
          "height": 35
        },
        "outputId": "1c69b661-516a-446b-fb17-3e95dfeab4db"
      },
      "source": [
        "answer = data[data.budget == data.budget.max()].original_title.to_list()\n",
        "print('Самый большой бюджет [{}$] у фильма {}'.format(data.budget.max(), answer))"
      ],
      "execution_count": 6,
      "outputs": [
        {
          "output_type": "stream",
          "text": [
            "Самый большой бюджет [425000000$] у фильма [\"The Warrior's Way\"]\n"
          ],
          "name": "stdout"
        }
      ]
    },
    {
      "cell_type": "code",
      "metadata": {
        "id": "9awjUHtU-kIU",
        "colab_type": "code",
        "colab": {}
      },
      "source": [
        "answer_ls.append(4)"
      ],
      "execution_count": 7,
      "outputs": []
    },
    {
      "cell_type": "markdown",
      "metadata": {
        "id": "17UOlpEb-kIY",
        "colab_type": "text"
      },
      "source": [
        "# 2. Какой из фильмов самый длительный (в минутах)\n",
        "1. The Lord of the Rings: The Return of the King\t(tt0167260)\n",
        "2. Gods and Generals\t(tt0279111)\n",
        "3. King Kong\t(tt0360717)\n",
        "4. Pearl Harbor\t(tt0213149)\n",
        "5. Alexander\t(tt0346491)"
      ]
    },
    {
      "cell_type": "code",
      "metadata": {
        "id": "C8JLTegx-kIY",
        "colab_type": "code",
        "colab": {
          "base_uri": "https://localhost:8080/",
          "height": 35
        },
        "outputId": "70aed407-1e5d-4df7-9264-7f7ae76c08a1"
      },
      "source": [
        "answer = data[data.runtime == data.runtime.max()].original_title.to_list()\n",
        "print('Самый большой по длительности [{} мин] фильм {}'.format(data.runtime.max(), answer))"
      ],
      "execution_count": 8,
      "outputs": [
        {
          "output_type": "stream",
          "text": [
            "Самый большой по длительности [214 мин] фильм ['Gods and Generals']\n"
          ],
          "name": "stdout"
        }
      ]
    },
    {
      "cell_type": "code",
      "metadata": {
        "id": "9WWXyxS2_VPQ",
        "colab_type": "code",
        "colab": {}
      },
      "source": [
        "answer_ls.append(2)"
      ],
      "execution_count": 9,
      "outputs": []
    },
    {
      "cell_type": "markdown",
      "metadata": {
        "id": "EdOjQ6Ri-kIc",
        "colab_type": "text"
      },
      "source": [
        "# 3. Какой из фильмов самый короткий (в минутах)\n",
        "Варианты ответов:\n",
        "\n",
        "1. Home on the Range\ttt0299172\n",
        "2. The Jungle Book 2\ttt0283426\n",
        "3. Winnie the Pooh\ttt1449283\n",
        "4. Corpse Bride\ttt0121164\n",
        "5. Hoodwinked!\ttt0443536"
      ]
    },
    {
      "cell_type": "code",
      "metadata": {
        "id": "72v_ktPM-kId",
        "colab_type": "code",
        "colab": {
          "base_uri": "https://localhost:8080/",
          "height": 35
        },
        "outputId": "87d629bd-9efd-4461-a186-923d7eb4b73b"
      },
      "source": [
        "answer = data[data.runtime == data.runtime.min()].original_title.to_list()\n",
        "print('Самый короткий по длительности [{} мин] фильм {}'.format(data.runtime.min(), answer))"
      ],
      "execution_count": 10,
      "outputs": [
        {
          "output_type": "stream",
          "text": [
            "Самый короткий по длительности [63 мин] фильм ['Winnie the Pooh']\n"
          ],
          "name": "stdout"
        }
      ]
    },
    {
      "cell_type": "code",
      "metadata": {
        "id": "dU1GDDBZ_nCl",
        "colab_type": "code",
        "colab": {}
      },
      "source": [
        "answer_ls.append(3)"
      ],
      "execution_count": 11,
      "outputs": []
    },
    {
      "cell_type": "markdown",
      "metadata": {
        "id": "tSNIbhDN-kIg",
        "colab_type": "text"
      },
      "source": [
        "# 4. Средняя длительность фильма?\n",
        "\n",
        "Варианты ответов:\n",
        "1. 115\n",
        "2. 110\n",
        "3. 105\n",
        "4. 120\n",
        "5. 100\n"
      ]
    },
    {
      "cell_type": "code",
      "metadata": {
        "id": "iOTryq7C-kIh",
        "colab_type": "code",
        "colab": {
          "base_uri": "https://localhost:8080/",
          "height": 35
        },
        "outputId": "6bfc60dd-3913-4999-c09b-77931443e0d4"
      },
      "source": [
        "answer = round(data.runtime.mean())\n",
        "print('Средняя длительность фильма: {}'.format(answer))"
      ],
      "execution_count": 12,
      "outputs": [
        {
          "output_type": "stream",
          "text": [
            "Средняя длительность фильма: 110\n"
          ],
          "name": "stdout"
        }
      ]
    },
    {
      "cell_type": "code",
      "metadata": {
        "id": "ssBvmRE0_r0C",
        "colab_type": "code",
        "colab": {}
      },
      "source": [
        "answer_ls.append(2)"
      ],
      "execution_count": 13,
      "outputs": []
    },
    {
      "cell_type": "markdown",
      "metadata": {
        "id": "69q_7C_O-kIk",
        "colab_type": "text"
      },
      "source": [
        "# 5. Средняя длительность фильма по медиане?\n",
        "Варианты ответов:\n",
        "1. 106\n",
        "2. 112\n",
        "3. 101\n",
        "4. 120\n",
        "5. 115\n",
        "\n",
        "\n"
      ]
    },
    {
      "cell_type": "code",
      "metadata": {
        "id": "DxzdC9bx-kIq",
        "colab_type": "code",
        "colab": {
          "base_uri": "https://localhost:8080/",
          "height": 35
        },
        "outputId": "415acd53-afb1-4100-e96c-98fcb6df8e07"
      },
      "source": [
        "answer = data.runtime.median()\n",
        "print('Медианная длительность фильма: {}'.format(answer))"
      ],
      "execution_count": 14,
      "outputs": [
        {
          "output_type": "stream",
          "text": [
            "Медианная длительность фильма: 106.5\n"
          ],
          "name": "stdout"
        }
      ]
    },
    {
      "cell_type": "code",
      "metadata": {
        "id": "58-5ZOGI_y2n",
        "colab_type": "code",
        "colab": {}
      },
      "source": [
        "answer_ls.append(1)"
      ],
      "execution_count": 15,
      "outputs": []
    },
    {
      "cell_type": "markdown",
      "metadata": {
        "id": "zzU-kh-B-kIu",
        "colab_type": "text"
      },
      "source": [
        "# 6. Какой самый прибыльный фильм?\n",
        "Варианты ответов:\n",
        "1. The Avengers\ttt0848228\n",
        "2. Minions\ttt2293640\n",
        "3. Star Wars: The Force Awakens\ttt2488496\n",
        "4. Furious 7\ttt2820852\n",
        "5. Avatar\ttt0499549"
      ]
    },
    {
      "cell_type": "code",
      "metadata": {
        "id": "rTbCAD9q-kIv",
        "colab_type": "code",
        "colab": {
          "base_uri": "https://localhost:8080/",
          "height": 35
        },
        "outputId": "42ed50bc-23a6-4dcc-dd0b-24c0c566bd84"
      },
      "source": [
        "answer = data[data.profit == data.profit.max()].original_title.to_list()\n",
        "print('Самый прибыльный [{} $] фильм {}'.format(data.profit.max(), answer))"
      ],
      "execution_count": 16,
      "outputs": [
        {
          "output_type": "stream",
          "text": [
            "Самый прибыльный [2544505847 $] фильм ['Avatar']\n"
          ],
          "name": "stdout"
        }
      ]
    },
    {
      "cell_type": "code",
      "metadata": {
        "id": "r8Kkb91F_8vf",
        "colab_type": "code",
        "colab": {}
      },
      "source": [
        "answer_ls.append(5)"
      ],
      "execution_count": 17,
      "outputs": []
    },
    {
      "cell_type": "markdown",
      "metadata": {
        "id": "6LFkWKNY-kIy",
        "colab_type": "text"
      },
      "source": [
        "# 7. Какой фильм самый убыточный?\n",
        "Варианты ответов:\n",
        "1. Supernova tt0134983\n",
        "2. The Warrior's Way tt1032751\n",
        "3. Flushed Away\ttt0424095\n",
        "4. The Adventures of Pluto Nash\ttt0180052\n",
        "5. The Lone Ranger\ttt1210819"
      ]
    },
    {
      "cell_type": "code",
      "metadata": {
        "id": "tf1nebt0-kIz",
        "colab_type": "code",
        "colab": {
          "base_uri": "https://localhost:8080/",
          "height": 35
        },
        "outputId": "1dbc2877-7f4c-4000-8e7f-2b0d779e42ef"
      },
      "source": [
        "answer = data[data.profit == data.profit.min()].original_title.to_list()\n",
        "print('Самый убыточный [{} $] фильм {}'.format(data.profit.min(), answer))"
      ],
      "execution_count": 18,
      "outputs": [
        {
          "output_type": "stream",
          "text": [
            "Самый убыточный [-413912431 $] фильм [\"The Warrior's Way\"]\n"
          ],
          "name": "stdout"
        }
      ]
    },
    {
      "cell_type": "code",
      "metadata": {
        "id": "DJyUiTA2ADcS",
        "colab_type": "code",
        "colab": {}
      },
      "source": [
        "answer_ls.append(2)"
      ],
      "execution_count": 19,
      "outputs": []
    },
    {
      "cell_type": "markdown",
      "metadata": {
        "id": "4OSW9bnB-kI2",
        "colab_type": "text"
      },
      "source": [
        "# 8. Сколько всего фильмов в прибыли?\n",
        "Варианты ответов:\n",
        "1. 1478\n",
        "2. 1520\n",
        "3. 1241\n",
        "4. 1135\n",
        "5. 1398\n"
      ]
    },
    {
      "cell_type": "code",
      "metadata": {
        "id": "5TjeSU9A-kI3",
        "colab_type": "code",
        "colab": {
          "base_uri": "https://localhost:8080/",
          "height": 35
        },
        "outputId": "02b19f87-b18f-4bc4-f6ac-6c859d1cb9ba"
      },
      "source": [
        "answer = len(data[data.profit > 0])\n",
        "print('У {} фильмов из датасета объем сборов оказался выше бюджета'.format(answer))"
      ],
      "execution_count": 20,
      "outputs": [
        {
          "output_type": "stream",
          "text": [
            "У 1478 фильмов из датасета объем сборов оказался выше бюджета\n"
          ],
          "name": "stdout"
        }
      ]
    },
    {
      "cell_type": "code",
      "metadata": {
        "id": "CO_QlXMoALqh",
        "colab_type": "code",
        "colab": {}
      },
      "source": [
        "answer_ls.append(1)"
      ],
      "execution_count": 21,
      "outputs": []
    },
    {
      "cell_type": "markdown",
      "metadata": {
        "id": "-BTVAcN2-kI6",
        "colab_type": "text"
      },
      "source": [
        "# 9. Самый прибыльный фильм в 2008 году?\n",
        "Варианты ответов:\n",
        "1. Madagascar: Escape 2 Africa\ttt0479952\n",
        "2. Iron Man\ttt0371746\n",
        "3. Kung Fu Panda\ttt0441773\n",
        "4. The Dark Knight\ttt0468569\n",
        "5. Mamma Mia!\ttt0795421"
      ]
    },
    {
      "cell_type": "code",
      "metadata": {
        "id": "s26KPNL3-kI7",
        "colab_type": "code",
        "colab": {
          "base_uri": "https://localhost:8080/",
          "height": 35
        },
        "outputId": "509bf17b-7dd8-4a06-f58d-82c54acc6f0b"
      },
      "source": [
        "movie_2008 = data[data.release_year == 2008]\n",
        "answer = movie_2008[movie_2008.profit == movie_2008.profit.max()].original_title.to_list()\n",
        "print('Самый прибыльный фильм в 2008 году: {}'.format(answer))"
      ],
      "execution_count": 22,
      "outputs": [
        {
          "output_type": "stream",
          "text": [
            "Самый прибыльный фильм в 2008 году: ['The Dark Knight']\n"
          ],
          "name": "stdout"
        }
      ]
    },
    {
      "cell_type": "code",
      "metadata": {
        "id": "6buvX8dmB414",
        "colab_type": "code",
        "colab": {}
      },
      "source": [
        "answer_ls.append(4)"
      ],
      "execution_count": 23,
      "outputs": []
    },
    {
      "cell_type": "markdown",
      "metadata": {
        "id": "r0cp6wxf-kI-",
        "colab_type": "text"
      },
      "source": [
        "# 10. Самый убыточный фильм за период с 2012 по 2014 (включительно)?\n",
        "Варианты ответов:\n",
        "1. Winter's Tale\ttt1837709\n",
        "2. Stolen\ttt1656186\n",
        "3. Broken City\ttt1235522\n",
        "4. Upside Down\ttt1374992\n",
        "5. The Lone Ranger\ttt1210819\n"
      ]
    },
    {
      "cell_type": "code",
      "metadata": {
        "id": "qnmNWpFr-kI-",
        "colab_type": "code",
        "colab": {
          "base_uri": "https://localhost:8080/",
          "height": 35
        },
        "outputId": "6fd55245-a20b-4851-a81c-74bf70a397b2"
      },
      "source": [
        "movie_12_14 = data[(data.release_year > 2012) & (data.release_year <= 2014)]\n",
        "answer = movie_12_14[movie_12_14.profit == movie_12_14.profit.min()].original_title.to_list()\n",
        "print('Самый убыточный фильм за период с 2012 по 2014 (включительно): {}'.format(answer))"
      ],
      "execution_count": 24,
      "outputs": [
        {
          "output_type": "stream",
          "text": [
            "Самый убыточный фильм за период с 2012 по 2014 (включительно): ['The Lone Ranger']\n"
          ],
          "name": "stdout"
        }
      ]
    },
    {
      "cell_type": "code",
      "metadata": {
        "id": "9Load8GxCYUC",
        "colab_type": "code",
        "colab": {}
      },
      "source": [
        "answer_ls.append(5)"
      ],
      "execution_count": 25,
      "outputs": []
    },
    {
      "cell_type": "markdown",
      "metadata": {
        "id": "JgrN2q06-kJC",
        "colab_type": "text"
      },
      "source": [
        "# 11. Какого жанра фильмов больше всего?\n",
        "Варианты ответов:\n",
        "1. Action\n",
        "2. Adventure\n",
        "3. Drama\n",
        "4. Comedy\n",
        "5. Thriller"
      ]
    },
    {
      "cell_type": "code",
      "metadata": {
        "id": "GBwC2HBbQFdg",
        "colab_type": "code",
        "colab": {
          "base_uri": "https://localhost:8080/",
          "height": 204
        },
        "outputId": "beb88cce-7c6f-4e27-beda-c92bd0c172cd"
      },
      "source": [
        "# данная схема используется во многих случаях в данном поекте, меняются лишь ячейки и счетчики\n",
        "\n",
        "# создаем счетчик числа фильмов\n",
        "count_movie = Counter()\n",
        "\n",
        "# построчно проходим весь датасет. \n",
        "# жанры фильмов перечислены через разделитель \"|\" - используем split(). \n",
        "# переносим содержимое ячейки genres во временной список genres_list.\n",
        "# подсчитываем счетчиком содержимое временного списка.\n",
        "\n",
        "for i in range(len(data)):\n",
        "  genres_list = data.iloc[i]['genres'].split('|')\n",
        "  for genre in genres_list:\n",
        "         count_movie[genre] += 1\n",
        "\n",
        "# преобразуем conter в dataframe\n",
        "count_movie_df = pd.DataFrame.from_records(count_movie.most_common(), columns=['genre','count'])\n",
        "count_movie_df.head()"
      ],
      "execution_count": 26,
      "outputs": [
        {
          "output_type": "execute_result",
          "data": {
            "text/html": [
              "<div>\n",
              "<style scoped>\n",
              "    .dataframe tbody tr th:only-of-type {\n",
              "        vertical-align: middle;\n",
              "    }\n",
              "\n",
              "    .dataframe tbody tr th {\n",
              "        vertical-align: top;\n",
              "    }\n",
              "\n",
              "    .dataframe thead th {\n",
              "        text-align: right;\n",
              "    }\n",
              "</style>\n",
              "<table border=\"1\" class=\"dataframe\">\n",
              "  <thead>\n",
              "    <tr style=\"text-align: right;\">\n",
              "      <th></th>\n",
              "      <th>genre</th>\n",
              "      <th>count</th>\n",
              "    </tr>\n",
              "  </thead>\n",
              "  <tbody>\n",
              "    <tr>\n",
              "      <th>0</th>\n",
              "      <td>Drama</td>\n",
              "      <td>782</td>\n",
              "    </tr>\n",
              "    <tr>\n",
              "      <th>1</th>\n",
              "      <td>Comedy</td>\n",
              "      <td>683</td>\n",
              "    </tr>\n",
              "    <tr>\n",
              "      <th>2</th>\n",
              "      <td>Thriller</td>\n",
              "      <td>597</td>\n",
              "    </tr>\n",
              "    <tr>\n",
              "      <th>3</th>\n",
              "      <td>Action</td>\n",
              "      <td>583</td>\n",
              "    </tr>\n",
              "    <tr>\n",
              "      <th>4</th>\n",
              "      <td>Adventure</td>\n",
              "      <td>416</td>\n",
              "    </tr>\n",
              "  </tbody>\n",
              "</table>\n",
              "</div>"
            ],
            "text/plain": [
              "       genre  count\n",
              "0      Drama    782\n",
              "1     Comedy    683\n",
              "2   Thriller    597\n",
              "3     Action    583\n",
              "4  Adventure    416"
            ]
          },
          "metadata": {
            "tags": []
          },
          "execution_count": 26
        }
      ]
    },
    {
      "cell_type": "code",
      "metadata": {
        "id": "12baDf7MF8cV",
        "colab_type": "code",
        "colab": {}
      },
      "source": [
        "answer_ls.append(3)"
      ],
      "execution_count": 27,
      "outputs": []
    },
    {
      "cell_type": "markdown",
      "metadata": {
        "id": "tble_dNN-kJG",
        "colab_type": "text"
      },
      "source": [
        "# 12. Какого жанра среди прибыльных фильмов больше всего?\n",
        "Варианты ответов:\n",
        "1. Drama\n",
        "2. Comedy\n",
        "3. Action\n",
        "4. Thriller\n",
        "5. Adventure"
      ]
    },
    {
      "cell_type": "code",
      "metadata": {
        "id": "lmaucb8jQbdc",
        "colab_type": "code",
        "colab": {
          "base_uri": "https://localhost:8080/",
          "height": 204
        },
        "outputId": "cd110050-0f7c-41f9-ec86-484002f38efd"
      },
      "source": [
        "movie_profit = data[data.profit > 0]\n",
        "count_movie = Counter()\n",
        "\n",
        "for i in range(len(movie_profit)):\n",
        "  genres_list = movie_profit.iloc[i]['genres'].split('|')\n",
        "  for genre in genres_list:\n",
        "         count_movie[genre] += 1\n",
        "\n",
        "count_movie_df = pd.DataFrame.from_records(count_movie.most_common(), columns=['genre','count'])\n",
        "count_movie_df.head()"
      ],
      "execution_count": 28,
      "outputs": [
        {
          "output_type": "execute_result",
          "data": {
            "text/html": [
              "<div>\n",
              "<style scoped>\n",
              "    .dataframe tbody tr th:only-of-type {\n",
              "        vertical-align: middle;\n",
              "    }\n",
              "\n",
              "    .dataframe tbody tr th {\n",
              "        vertical-align: top;\n",
              "    }\n",
              "\n",
              "    .dataframe thead th {\n",
              "        text-align: right;\n",
              "    }\n",
              "</style>\n",
              "<table border=\"1\" class=\"dataframe\">\n",
              "  <thead>\n",
              "    <tr style=\"text-align: right;\">\n",
              "      <th></th>\n",
              "      <th>genre</th>\n",
              "      <th>count</th>\n",
              "    </tr>\n",
              "  </thead>\n",
              "  <tbody>\n",
              "    <tr>\n",
              "      <th>0</th>\n",
              "      <td>Drama</td>\n",
              "      <td>560</td>\n",
              "    </tr>\n",
              "    <tr>\n",
              "      <th>1</th>\n",
              "      <td>Comedy</td>\n",
              "      <td>551</td>\n",
              "    </tr>\n",
              "    <tr>\n",
              "      <th>2</th>\n",
              "      <td>Thriller</td>\n",
              "      <td>446</td>\n",
              "    </tr>\n",
              "    <tr>\n",
              "      <th>3</th>\n",
              "      <td>Action</td>\n",
              "      <td>444</td>\n",
              "    </tr>\n",
              "    <tr>\n",
              "      <th>4</th>\n",
              "      <td>Adventure</td>\n",
              "      <td>337</td>\n",
              "    </tr>\n",
              "  </tbody>\n",
              "</table>\n",
              "</div>"
            ],
            "text/plain": [
              "       genre  count\n",
              "0      Drama    560\n",
              "1     Comedy    551\n",
              "2   Thriller    446\n",
              "3     Action    444\n",
              "4  Adventure    337"
            ]
          },
          "metadata": {
            "tags": []
          },
          "execution_count": 28
        }
      ]
    },
    {
      "cell_type": "code",
      "metadata": {
        "id": "uYVTzrJ1F3kG",
        "colab_type": "code",
        "colab": {}
      },
      "source": [
        "answer_ls.append(1)"
      ],
      "execution_count": 29,
      "outputs": []
    },
    {
      "cell_type": "markdown",
      "metadata": {
        "id": "rZTBjniL-kJJ",
        "colab_type": "text"
      },
      "source": [
        "# 13. Кто из режиссеров снял больше всего фильмов?\n",
        "Варианты ответов:\n",
        "1. Steven Spielberg\n",
        "2. Ridley Scott \n",
        "3. Steven Soderbergh\n",
        "4. Christopher Nolan\n",
        "5. Clint Eastwood"
      ]
    },
    {
      "cell_type": "code",
      "metadata": {
        "id": "1dfM_inDQpRZ",
        "colab_type": "code",
        "colab": {
          "base_uri": "https://localhost:8080/",
          "height": 204
        },
        "outputId": "31c333dd-2ce7-464b-8690-69d00e3a31cf"
      },
      "source": [
        "count_movie = Counter()\n",
        "\n",
        "for i in range(len(data)):\n",
        "  director_list = data.iloc[i]['director'].split('|')\n",
        "  for director in director_list:\n",
        "         count_movie[director] += 1\n",
        "\n",
        "count_movie_df = pd.DataFrame.from_records(count_movie.most_common(), columns=['director','count'])\n",
        "count_movie_df.head()"
      ],
      "execution_count": 30,
      "outputs": [
        {
          "output_type": "execute_result",
          "data": {
            "text/html": [
              "<div>\n",
              "<style scoped>\n",
              "    .dataframe tbody tr th:only-of-type {\n",
              "        vertical-align: middle;\n",
              "    }\n",
              "\n",
              "    .dataframe tbody tr th {\n",
              "        vertical-align: top;\n",
              "    }\n",
              "\n",
              "    .dataframe thead th {\n",
              "        text-align: right;\n",
              "    }\n",
              "</style>\n",
              "<table border=\"1\" class=\"dataframe\">\n",
              "  <thead>\n",
              "    <tr style=\"text-align: right;\">\n",
              "      <th></th>\n",
              "      <th>director</th>\n",
              "      <th>count</th>\n",
              "    </tr>\n",
              "  </thead>\n",
              "  <tbody>\n",
              "    <tr>\n",
              "      <th>0</th>\n",
              "      <td>Steven Soderbergh</td>\n",
              "      <td>13</td>\n",
              "    </tr>\n",
              "    <tr>\n",
              "      <th>1</th>\n",
              "      <td>Ridley Scott</td>\n",
              "      <td>12</td>\n",
              "    </tr>\n",
              "    <tr>\n",
              "      <th>2</th>\n",
              "      <td>Clint Eastwood</td>\n",
              "      <td>12</td>\n",
              "    </tr>\n",
              "    <tr>\n",
              "      <th>3</th>\n",
              "      <td>Robert Rodriguez</td>\n",
              "      <td>11</td>\n",
              "    </tr>\n",
              "    <tr>\n",
              "      <th>4</th>\n",
              "      <td>Steven Spielberg</td>\n",
              "      <td>10</td>\n",
              "    </tr>\n",
              "  </tbody>\n",
              "</table>\n",
              "</div>"
            ],
            "text/plain": [
              "            director  count\n",
              "0  Steven Soderbergh     13\n",
              "1       Ridley Scott     12\n",
              "2     Clint Eastwood     12\n",
              "3   Robert Rodriguez     11\n",
              "4   Steven Spielberg     10"
            ]
          },
          "metadata": {
            "tags": []
          },
          "execution_count": 30
        }
      ]
    },
    {
      "cell_type": "code",
      "metadata": {
        "id": "LP6TshdAHXtV",
        "colab_type": "code",
        "colab": {}
      },
      "source": [
        "answer_ls.append(3)"
      ],
      "execution_count": 31,
      "outputs": []
    },
    {
      "cell_type": "markdown",
      "metadata": {
        "id": "RegUZyyj-kJN",
        "colab_type": "text"
      },
      "source": [
        "# 14. Кто из режиссеров снял больше всего Прибыльных фильмов?\n",
        "Варианты ответов:\n",
        "1. Steven Soderbergh\n",
        "2. Clint Eastwood\n",
        "3. Steven Spielberg\n",
        "4. Ridley Scott\n",
        "5. Christopher Nolan"
      ]
    },
    {
      "cell_type": "code",
      "metadata": {
        "id": "T625qwkH-kJN",
        "colab_type": "code",
        "colab": {
          "base_uri": "https://localhost:8080/",
          "height": 204
        },
        "outputId": "a8ef7fc5-188d-452a-8753-fa4c6419ca70"
      },
      "source": [
        "movie_profit = data[data.profit > 0]\n",
        "count_movie = Counter()\n",
        "\n",
        "for i in range(len(movie_profit)):\n",
        "  director_list = movie_profit.iloc[i]['director'].split('|')\n",
        "  for director in director_list:\n",
        "         count_movie[director] += 1\n",
        "\n",
        "count_movie_df = pd.DataFrame.from_records(count_movie.most_common(), columns=['director','count'])\n",
        "count_movie_df.head()"
      ],
      "execution_count": 32,
      "outputs": [
        {
          "output_type": "execute_result",
          "data": {
            "text/html": [
              "<div>\n",
              "<style scoped>\n",
              "    .dataframe tbody tr th:only-of-type {\n",
              "        vertical-align: middle;\n",
              "    }\n",
              "\n",
              "    .dataframe tbody tr th {\n",
              "        vertical-align: top;\n",
              "    }\n",
              "\n",
              "    .dataframe thead th {\n",
              "        text-align: right;\n",
              "    }\n",
              "</style>\n",
              "<table border=\"1\" class=\"dataframe\">\n",
              "  <thead>\n",
              "    <tr style=\"text-align: right;\">\n",
              "      <th></th>\n",
              "      <th>director</th>\n",
              "      <th>count</th>\n",
              "    </tr>\n",
              "  </thead>\n",
              "  <tbody>\n",
              "    <tr>\n",
              "      <th>0</th>\n",
              "      <td>Ridley Scott</td>\n",
              "      <td>12</td>\n",
              "    </tr>\n",
              "    <tr>\n",
              "      <th>1</th>\n",
              "      <td>Steven Spielberg</td>\n",
              "      <td>10</td>\n",
              "    </tr>\n",
              "    <tr>\n",
              "      <th>2</th>\n",
              "      <td>Clint Eastwood</td>\n",
              "      <td>10</td>\n",
              "    </tr>\n",
              "    <tr>\n",
              "      <th>3</th>\n",
              "      <td>Steven Soderbergh</td>\n",
              "      <td>10</td>\n",
              "    </tr>\n",
              "    <tr>\n",
              "      <th>4</th>\n",
              "      <td>Shawn Levy</td>\n",
              "      <td>9</td>\n",
              "    </tr>\n",
              "  </tbody>\n",
              "</table>\n",
              "</div>"
            ],
            "text/plain": [
              "            director  count\n",
              "0       Ridley Scott     12\n",
              "1   Steven Spielberg     10\n",
              "2     Clint Eastwood     10\n",
              "3  Steven Soderbergh     10\n",
              "4         Shawn Levy      9"
            ]
          },
          "metadata": {
            "tags": []
          },
          "execution_count": 32
        }
      ]
    },
    {
      "cell_type": "code",
      "metadata": {
        "id": "GwnfgpGlHrQe",
        "colab_type": "code",
        "colab": {}
      },
      "source": [
        "answer_ls.append(4)"
      ],
      "execution_count": 33,
      "outputs": []
    },
    {
      "cell_type": "markdown",
      "metadata": {
        "id": "ujZlK0Ji-kJQ",
        "colab_type": "text"
      },
      "source": [
        "# 15. Кто из режиссеров принес больше всего прибыли?\n",
        "Варианты ответов:\n",
        "1. Steven Spielberg\n",
        "2. Christopher Nolan\n",
        "3. David Yates\n",
        "4. James Cameron\n",
        "5. Peter Jackson\n"
      ]
    },
    {
      "cell_type": "code",
      "metadata": {
        "id": "nEQzdWHH-kJR",
        "colab_type": "code",
        "colab": {
          "base_uri": "https://localhost:8080/",
          "height": 204
        },
        "outputId": "1c1c8393-b2cb-422f-803f-554f429f9291"
      },
      "source": [
        "count_profit = Counter()\n",
        "\n",
        "for i in range(len(data)):\n",
        "  director_list = data.iloc[i]['director'].split('|')\n",
        "  for director in director_list:\n",
        "         count_profit[director] += data.iloc[i]['profit']\n",
        "\n",
        "count_profit_df = pd.DataFrame.from_records(count_profit.most_common(), columns=['director','profit'])\n",
        "count_profit_df.head()"
      ],
      "execution_count": 34,
      "outputs": [
        {
          "output_type": "execute_result",
          "data": {
            "text/html": [
              "<div>\n",
              "<style scoped>\n",
              "    .dataframe tbody tr th:only-of-type {\n",
              "        vertical-align: middle;\n",
              "    }\n",
              "\n",
              "    .dataframe tbody tr th {\n",
              "        vertical-align: top;\n",
              "    }\n",
              "\n",
              "    .dataframe thead th {\n",
              "        text-align: right;\n",
              "    }\n",
              "</style>\n",
              "<table border=\"1\" class=\"dataframe\">\n",
              "  <thead>\n",
              "    <tr style=\"text-align: right;\">\n",
              "      <th></th>\n",
              "      <th>director</th>\n",
              "      <th>profit</th>\n",
              "    </tr>\n",
              "  </thead>\n",
              "  <tbody>\n",
              "    <tr>\n",
              "      <th>0</th>\n",
              "      <td>Peter Jackson</td>\n",
              "      <td>5202593685</td>\n",
              "    </tr>\n",
              "    <tr>\n",
              "      <th>1</th>\n",
              "      <td>David Yates</td>\n",
              "      <td>3379295625</td>\n",
              "    </tr>\n",
              "    <tr>\n",
              "      <th>2</th>\n",
              "      <td>Christopher Nolan</td>\n",
              "      <td>3162548502</td>\n",
              "    </tr>\n",
              "    <tr>\n",
              "      <th>3</th>\n",
              "      <td>J.J. Abrams</td>\n",
              "      <td>2839169916</td>\n",
              "    </tr>\n",
              "    <tr>\n",
              "      <th>4</th>\n",
              "      <td>Michael Bay</td>\n",
              "      <td>2760938960</td>\n",
              "    </tr>\n",
              "  </tbody>\n",
              "</table>\n",
              "</div>"
            ],
            "text/plain": [
              "            director      profit\n",
              "0      Peter Jackson  5202593685\n",
              "1        David Yates  3379295625\n",
              "2  Christopher Nolan  3162548502\n",
              "3        J.J. Abrams  2839169916\n",
              "4        Michael Bay  2760938960"
            ]
          },
          "metadata": {
            "tags": []
          },
          "execution_count": 34
        }
      ]
    },
    {
      "cell_type": "code",
      "metadata": {
        "id": "T0hF1Jm3IMqN",
        "colab_type": "code",
        "colab": {}
      },
      "source": [
        "answer_ls.append(5)"
      ],
      "execution_count": 35,
      "outputs": []
    },
    {
      "cell_type": "markdown",
      "metadata": {
        "id": "z1tslmmE-kJU",
        "colab_type": "text"
      },
      "source": [
        "# 16. Какой актер принес больше всего прибыли?\n",
        "Варианты ответов:\n",
        "1. Emma Watson\n",
        "2. Johnny Depp\n",
        "3. Michelle Rodriguez\n",
        "4. Orlando Bloom\n",
        "5. Rupert Grint"
      ]
    },
    {
      "cell_type": "code",
      "metadata": {
        "id": "QftMYr_d-kJV",
        "colab_type": "code",
        "colab": {
          "base_uri": "https://localhost:8080/",
          "height": 204
        },
        "outputId": "094ab395-ed4a-438d-8cd5-5e967604cead"
      },
      "source": [
        "count_profit = Counter()\n",
        "\n",
        "for i in range(len(data)):\n",
        "  cast_list = data.iloc[i]['cast'].split('|')\n",
        "  for cast in cast_list:\n",
        "         count_profit[cast] += data.iloc[i]['profit']\n",
        "\n",
        "count_profit_df = pd.DataFrame.from_records(count_profit.most_common(), columns=['cast','profit'])\n",
        "count_profit_df.head()"
      ],
      "execution_count": 36,
      "outputs": [
        {
          "output_type": "execute_result",
          "data": {
            "text/html": [
              "<div>\n",
              "<style scoped>\n",
              "    .dataframe tbody tr th:only-of-type {\n",
              "        vertical-align: middle;\n",
              "    }\n",
              "\n",
              "    .dataframe tbody tr th {\n",
              "        vertical-align: top;\n",
              "    }\n",
              "\n",
              "    .dataframe thead th {\n",
              "        text-align: right;\n",
              "    }\n",
              "</style>\n",
              "<table border=\"1\" class=\"dataframe\">\n",
              "  <thead>\n",
              "    <tr style=\"text-align: right;\">\n",
              "      <th></th>\n",
              "      <th>cast</th>\n",
              "      <th>profit</th>\n",
              "    </tr>\n",
              "  </thead>\n",
              "  <tbody>\n",
              "    <tr>\n",
              "      <th>0</th>\n",
              "      <td>Emma Watson</td>\n",
              "      <td>6666245597</td>\n",
              "    </tr>\n",
              "    <tr>\n",
              "      <th>1</th>\n",
              "      <td>Daniel Radcliffe</td>\n",
              "      <td>6514990281</td>\n",
              "    </tr>\n",
              "    <tr>\n",
              "      <th>2</th>\n",
              "      <td>Rupert Grint</td>\n",
              "      <td>6408638290</td>\n",
              "    </tr>\n",
              "    <tr>\n",
              "      <th>3</th>\n",
              "      <td>Ian McKellen</td>\n",
              "      <td>6087375777</td>\n",
              "    </tr>\n",
              "    <tr>\n",
              "      <th>4</th>\n",
              "      <td>Robert Downey Jr.</td>\n",
              "      <td>5316030161</td>\n",
              "    </tr>\n",
              "  </tbody>\n",
              "</table>\n",
              "</div>"
            ],
            "text/plain": [
              "                cast      profit\n",
              "0        Emma Watson  6666245597\n",
              "1   Daniel Radcliffe  6514990281\n",
              "2       Rupert Grint  6408638290\n",
              "3       Ian McKellen  6087375777\n",
              "4  Robert Downey Jr.  5316030161"
            ]
          },
          "metadata": {
            "tags": []
          },
          "execution_count": 36
        }
      ]
    },
    {
      "cell_type": "code",
      "metadata": {
        "id": "CoB-oHbrKAxa",
        "colab_type": "code",
        "colab": {}
      },
      "source": [
        "answer_ls.append(1)"
      ],
      "execution_count": 37,
      "outputs": []
    },
    {
      "cell_type": "markdown",
      "metadata": {
        "id": "Q85oQEln-kJZ",
        "colab_type": "text"
      },
      "source": [
        "# 17. Какой актер принес меньше всего прибыли в 2012 году?\n",
        "Варианты ответов:\n",
        "1. Nicolas Cage\n",
        "2. Danny Huston\n",
        "3. Kirsten Dunst\n",
        "4. Jim Sturgess\n",
        "5. Sami Gayle"
      ]
    },
    {
      "cell_type": "code",
      "metadata": {
        "id": "-ojBA0iY-kJZ",
        "colab_type": "code",
        "colab": {
          "base_uri": "https://localhost:8080/",
          "height": 204
        },
        "outputId": "5449d9cc-8c73-4ea3-cb2f-f0a9ac991cd2"
      },
      "source": [
        "movie_2012 = data[data.release_year == 2012]\n",
        "count_profit = Counter()\n",
        "\n",
        "for i in range(len(movie_2012)):\n",
        "  cast_list = movie_2012.iloc[i]['cast'].split('|')\n",
        "  for cast in cast_list:\n",
        "         count_profit[cast] += movie_2012.iloc[i]['profit']\n",
        "\n",
        "count_profit_df = pd.DataFrame.from_records(count_profit.most_common(), columns=['cast','profit'])\n",
        "count_profit_df.tail()"
      ],
      "execution_count": 38,
      "outputs": [
        {
          "output_type": "execute_result",
          "data": {
            "text/html": [
              "<div>\n",
              "<style scoped>\n",
              "    .dataframe tbody tr th:only-of-type {\n",
              "        vertical-align: middle;\n",
              "    }\n",
              "\n",
              "    .dataframe tbody tr th {\n",
              "        vertical-align: top;\n",
              "    }\n",
              "\n",
              "    .dataframe thead th {\n",
              "        text-align: right;\n",
              "    }\n",
              "</style>\n",
              "<table border=\"1\" class=\"dataframe\">\n",
              "  <thead>\n",
              "    <tr style=\"text-align: right;\">\n",
              "      <th></th>\n",
              "      <th>cast</th>\n",
              "      <th>profit</th>\n",
              "    </tr>\n",
              "  </thead>\n",
              "  <tbody>\n",
              "    <tr>\n",
              "      <th>461</th>\n",
              "      <td>Malin Ã…kerman</td>\n",
              "      <td>-43733509</td>\n",
              "    </tr>\n",
              "    <tr>\n",
              "      <th>462</th>\n",
              "      <td>Timothy Spall</td>\n",
              "      <td>-51893525</td>\n",
              "    </tr>\n",
              "    <tr>\n",
              "      <th>463</th>\n",
              "      <td>James Kidnie</td>\n",
              "      <td>-51893525</td>\n",
              "    </tr>\n",
              "    <tr>\n",
              "      <th>464</th>\n",
              "      <td>Heidi Hawkins</td>\n",
              "      <td>-51893525</td>\n",
              "    </tr>\n",
              "    <tr>\n",
              "      <th>465</th>\n",
              "      <td>Kirsten Dunst</td>\n",
              "      <td>-68109207</td>\n",
              "    </tr>\n",
              "  </tbody>\n",
              "</table>\n",
              "</div>"
            ],
            "text/plain": [
              "               cast    profit\n",
              "461  Malin Ã…kerman -43733509\n",
              "462   Timothy Spall -51893525\n",
              "463    James Kidnie -51893525\n",
              "464   Heidi Hawkins -51893525\n",
              "465   Kirsten Dunst -68109207"
            ]
          },
          "metadata": {
            "tags": []
          },
          "execution_count": 38
        }
      ]
    },
    {
      "cell_type": "code",
      "metadata": {
        "id": "3PAa2YPYLdtH",
        "colab_type": "code",
        "colab": {}
      },
      "source": [
        "answer_ls.append(3)"
      ],
      "execution_count": 39,
      "outputs": []
    },
    {
      "cell_type": "markdown",
      "metadata": {
        "id": "wW81YWy1-kJd",
        "colab_type": "text"
      },
      "source": [
        "# 18. Какой актер снялся в большем количестве высокобюджетных фильмов? (в фильмах где бюджет выше среднего по данной выборке)\n",
        "Варианты ответов:\n",
        "1. Tom Cruise\n",
        "2. Mark Wahlberg \n",
        "3. Matt Damon\n",
        "4. Angelina Jolie\n",
        "5. Adam Sandler"
      ]
    },
    {
      "cell_type": "code",
      "metadata": {
        "id": "R2n3nEgq-kJe",
        "colab_type": "code",
        "colab": {
          "base_uri": "https://localhost:8080/",
          "height": 204
        },
        "outputId": "08a8d7a3-3874-4e95-93a0-0134de5bca3e"
      },
      "source": [
        "movie_high_budget = data[data.budget > data.budget.mean()]\n",
        "count_movie = Counter()\n",
        "\n",
        "for i in range(len(movie_high_budget)):\n",
        "  cast_list = movie_high_budget.iloc[i]['cast'].split('|')\n",
        "  for cast in cast_list:\n",
        "         count_movie[cast] += 1\n",
        "\n",
        "count_movie_df = pd.DataFrame.from_records(count_movie.most_common(), columns=['cast','count'])\n",
        "count_movie_df.head()"
      ],
      "execution_count": 40,
      "outputs": [
        {
          "output_type": "execute_result",
          "data": {
            "text/html": [
              "<div>\n",
              "<style scoped>\n",
              "    .dataframe tbody tr th:only-of-type {\n",
              "        vertical-align: middle;\n",
              "    }\n",
              "\n",
              "    .dataframe tbody tr th {\n",
              "        vertical-align: top;\n",
              "    }\n",
              "\n",
              "    .dataframe thead th {\n",
              "        text-align: right;\n",
              "    }\n",
              "</style>\n",
              "<table border=\"1\" class=\"dataframe\">\n",
              "  <thead>\n",
              "    <tr style=\"text-align: right;\">\n",
              "      <th></th>\n",
              "      <th>cast</th>\n",
              "      <th>count</th>\n",
              "    </tr>\n",
              "  </thead>\n",
              "  <tbody>\n",
              "    <tr>\n",
              "      <th>0</th>\n",
              "      <td>Matt Damon</td>\n",
              "      <td>18</td>\n",
              "    </tr>\n",
              "    <tr>\n",
              "      <th>1</th>\n",
              "      <td>Adam Sandler</td>\n",
              "      <td>17</td>\n",
              "    </tr>\n",
              "    <tr>\n",
              "      <th>2</th>\n",
              "      <td>Angelina Jolie</td>\n",
              "      <td>16</td>\n",
              "    </tr>\n",
              "    <tr>\n",
              "      <th>3</th>\n",
              "      <td>Tom Cruise</td>\n",
              "      <td>15</td>\n",
              "    </tr>\n",
              "    <tr>\n",
              "      <th>4</th>\n",
              "      <td>Samuel L. Jackson</td>\n",
              "      <td>15</td>\n",
              "    </tr>\n",
              "  </tbody>\n",
              "</table>\n",
              "</div>"
            ],
            "text/plain": [
              "                cast  count\n",
              "0         Matt Damon     18\n",
              "1       Adam Sandler     17\n",
              "2     Angelina Jolie     16\n",
              "3         Tom Cruise     15\n",
              "4  Samuel L. Jackson     15"
            ]
          },
          "metadata": {
            "tags": []
          },
          "execution_count": 40
        }
      ]
    },
    {
      "cell_type": "code",
      "metadata": {
        "id": "_He3xxLdMsx3",
        "colab_type": "code",
        "colab": {}
      },
      "source": [
        "answer_ls.append(3)"
      ],
      "execution_count": 41,
      "outputs": []
    },
    {
      "cell_type": "markdown",
      "metadata": {
        "id": "83mpPF43-kJh",
        "colab_type": "text"
      },
      "source": [
        "# 19. В фильмах какого жанра больше всего снимался Nicolas Cage?  \n",
        "Варианты ответа:\n",
        "1. Drama\n",
        "2. Action\n",
        "3. Thriller\n",
        "4. Adventure\n",
        "5. Crime"
      ]
    },
    {
      "cell_type": "code",
      "metadata": {
        "id": "CSWbabZE-kJh",
        "colab_type": "code",
        "colab": {
          "base_uri": "https://localhost:8080/",
          "height": 204
        },
        "outputId": "7f763e21-b1ea-4231-98b4-e511d0b65ef0"
      },
      "source": [
        "movie_cage = data[data.cast.str.contains('Nicolas Cage')]\n",
        "count_movie = Counter()\n",
        "\n",
        "for i in range(len(movie_cage)):\n",
        "  genres_list = movie_cage.iloc[i]['genres'].split('|')\n",
        "  for genre in genres_list:\n",
        "         count_movie[genre] += 1\n",
        "\n",
        "count_movie_df = pd.DataFrame.from_records(count_movie.most_common(), columns=['genre','count'])\n",
        "count_movie_df.head()"
      ],
      "execution_count": 42,
      "outputs": [
        {
          "output_type": "execute_result",
          "data": {
            "text/html": [
              "<div>\n",
              "<style scoped>\n",
              "    .dataframe tbody tr th:only-of-type {\n",
              "        vertical-align: middle;\n",
              "    }\n",
              "\n",
              "    .dataframe tbody tr th {\n",
              "        vertical-align: top;\n",
              "    }\n",
              "\n",
              "    .dataframe thead th {\n",
              "        text-align: right;\n",
              "    }\n",
              "</style>\n",
              "<table border=\"1\" class=\"dataframe\">\n",
              "  <thead>\n",
              "    <tr style=\"text-align: right;\">\n",
              "      <th></th>\n",
              "      <th>genre</th>\n",
              "      <th>count</th>\n",
              "    </tr>\n",
              "  </thead>\n",
              "  <tbody>\n",
              "    <tr>\n",
              "      <th>0</th>\n",
              "      <td>Action</td>\n",
              "      <td>17</td>\n",
              "    </tr>\n",
              "    <tr>\n",
              "      <th>1</th>\n",
              "      <td>Thriller</td>\n",
              "      <td>15</td>\n",
              "    </tr>\n",
              "    <tr>\n",
              "      <th>2</th>\n",
              "      <td>Drama</td>\n",
              "      <td>12</td>\n",
              "    </tr>\n",
              "    <tr>\n",
              "      <th>3</th>\n",
              "      <td>Crime</td>\n",
              "      <td>10</td>\n",
              "    </tr>\n",
              "    <tr>\n",
              "      <th>4</th>\n",
              "      <td>Fantasy</td>\n",
              "      <td>8</td>\n",
              "    </tr>\n",
              "  </tbody>\n",
              "</table>\n",
              "</div>"
            ],
            "text/plain": [
              "      genre  count\n",
              "0    Action     17\n",
              "1  Thriller     15\n",
              "2     Drama     12\n",
              "3     Crime     10\n",
              "4   Fantasy      8"
            ]
          },
          "metadata": {
            "tags": []
          },
          "execution_count": 42
        }
      ]
    },
    {
      "cell_type": "code",
      "metadata": {
        "id": "hfZx9tHdNsCH",
        "colab_type": "code",
        "colab": {}
      },
      "source": [
        "answer_ls.append(2)"
      ],
      "execution_count": 43,
      "outputs": []
    },
    {
      "cell_type": "markdown",
      "metadata": {
        "id": "GL7dEIqm-kJk",
        "colab_type": "text"
      },
      "source": [
        "# 20. Какая студия сняла больше всего фильмов?\n",
        "Варианты ответа:\n",
        "1. Universal Pictures (Universal)\n",
        "2. Paramount Pictures\n",
        "3. Columbia Pictures\n",
        "4. Warner Bros\n",
        "5. Twentieth Century Fox Film Corporation"
      ]
    },
    {
      "cell_type": "code",
      "metadata": {
        "id": "LLAyVYG7-kJl",
        "colab_type": "code",
        "colab": {
          "base_uri": "https://localhost:8080/",
          "height": 204
        },
        "outputId": "a91259ba-da21-410d-8b76-3615eac7efcd"
      },
      "source": [
        "count_movie = Counter()\n",
        "\n",
        "for i in range(len(data)):\n",
        "  product_list = data.iloc[i]['production_companies'].split('|')\n",
        "  for product in product_list:\n",
        "         count_movie[product] += 1\n",
        "\n",
        "count_movie_df = pd.DataFrame.from_records(count_movie.most_common(), columns=['production','count'])\n",
        "count_movie_df.head()"
      ],
      "execution_count": 44,
      "outputs": [
        {
          "output_type": "execute_result",
          "data": {
            "text/html": [
              "<div>\n",
              "<style scoped>\n",
              "    .dataframe tbody tr th:only-of-type {\n",
              "        vertical-align: middle;\n",
              "    }\n",
              "\n",
              "    .dataframe tbody tr th {\n",
              "        vertical-align: top;\n",
              "    }\n",
              "\n",
              "    .dataframe thead th {\n",
              "        text-align: right;\n",
              "    }\n",
              "</style>\n",
              "<table border=\"1\" class=\"dataframe\">\n",
              "  <thead>\n",
              "    <tr style=\"text-align: right;\">\n",
              "      <th></th>\n",
              "      <th>production</th>\n",
              "      <th>count</th>\n",
              "    </tr>\n",
              "  </thead>\n",
              "  <tbody>\n",
              "    <tr>\n",
              "      <th>0</th>\n",
              "      <td>Universal Pictures</td>\n",
              "      <td>173</td>\n",
              "    </tr>\n",
              "    <tr>\n",
              "      <th>1</th>\n",
              "      <td>Warner Bros.</td>\n",
              "      <td>168</td>\n",
              "    </tr>\n",
              "    <tr>\n",
              "      <th>2</th>\n",
              "      <td>Paramount Pictures</td>\n",
              "      <td>122</td>\n",
              "    </tr>\n",
              "    <tr>\n",
              "      <th>3</th>\n",
              "      <td>Columbia Pictures</td>\n",
              "      <td>117</td>\n",
              "    </tr>\n",
              "    <tr>\n",
              "      <th>4</th>\n",
              "      <td>Twentieth Century Fox Film Corporation</td>\n",
              "      <td>109</td>\n",
              "    </tr>\n",
              "  </tbody>\n",
              "</table>\n",
              "</div>"
            ],
            "text/plain": [
              "                               production  count\n",
              "0                      Universal Pictures    173\n",
              "1                            Warner Bros.    168\n",
              "2                      Paramount Pictures    122\n",
              "3                       Columbia Pictures    117\n",
              "4  Twentieth Century Fox Film Corporation    109"
            ]
          },
          "metadata": {
            "tags": []
          },
          "execution_count": 44
        }
      ]
    },
    {
      "cell_type": "code",
      "metadata": {
        "id": "tf25XoBzPviK",
        "colab_type": "code",
        "colab": {}
      },
      "source": [
        "answer_ls.append(1)"
      ],
      "execution_count": 45,
      "outputs": []
    },
    {
      "cell_type": "markdown",
      "metadata": {
        "id": "jJzGN_QJ-kJn",
        "colab_type": "text"
      },
      "source": [
        "# 21. Какая студия сняла больше всего фильмов в 2015 году?\n",
        "Варианты ответа:\n",
        "1. Universal Pictures\n",
        "2. Paramount Pictures\n",
        "3. Columbia Pictures\n",
        "4. Warner Bros\n",
        "5. Twentieth Century Fox Film Corporation"
      ]
    },
    {
      "cell_type": "code",
      "metadata": {
        "id": "pth2EOdO-kJo",
        "colab_type": "code",
        "colab": {
          "base_uri": "https://localhost:8080/",
          "height": 204
        },
        "outputId": "aa3d4955-c429-49fd-ef3d-f497090f40c6"
      },
      "source": [
        "movie_2015 = data[data.release_year == 2015]\n",
        "count_movie = Counter()\n",
        "\n",
        "for i in range(len(movie_2015)):\n",
        "  product_list = movie_2015.iloc[i]['production_companies'].split('|')\n",
        "  for product in product_list:\n",
        "         count_movie[product] += 1\n",
        "\n",
        "count_movie_df = pd.DataFrame.from_records(count_movie.most_common(), columns=['production','count'])\n",
        "count_movie_df.head()"
      ],
      "execution_count": 46,
      "outputs": [
        {
          "output_type": "execute_result",
          "data": {
            "text/html": [
              "<div>\n",
              "<style scoped>\n",
              "    .dataframe tbody tr th:only-of-type {\n",
              "        vertical-align: middle;\n",
              "    }\n",
              "\n",
              "    .dataframe tbody tr th {\n",
              "        vertical-align: top;\n",
              "    }\n",
              "\n",
              "    .dataframe thead th {\n",
              "        text-align: right;\n",
              "    }\n",
              "</style>\n",
              "<table border=\"1\" class=\"dataframe\">\n",
              "  <thead>\n",
              "    <tr style=\"text-align: right;\">\n",
              "      <th></th>\n",
              "      <th>production</th>\n",
              "      <th>count</th>\n",
              "    </tr>\n",
              "  </thead>\n",
              "  <tbody>\n",
              "    <tr>\n",
              "      <th>0</th>\n",
              "      <td>Warner Bros.</td>\n",
              "      <td>12</td>\n",
              "    </tr>\n",
              "    <tr>\n",
              "      <th>1</th>\n",
              "      <td>Universal Pictures</td>\n",
              "      <td>10</td>\n",
              "    </tr>\n",
              "    <tr>\n",
              "      <th>2</th>\n",
              "      <td>Twentieth Century Fox Film Corporation</td>\n",
              "      <td>8</td>\n",
              "    </tr>\n",
              "    <tr>\n",
              "      <th>3</th>\n",
              "      <td>Paramount Pictures</td>\n",
              "      <td>7</td>\n",
              "    </tr>\n",
              "    <tr>\n",
              "      <th>4</th>\n",
              "      <td>Columbia Pictures</td>\n",
              "      <td>7</td>\n",
              "    </tr>\n",
              "  </tbody>\n",
              "</table>\n",
              "</div>"
            ],
            "text/plain": [
              "                               production  count\n",
              "0                            Warner Bros.     12\n",
              "1                      Universal Pictures     10\n",
              "2  Twentieth Century Fox Film Corporation      8\n",
              "3                      Paramount Pictures      7\n",
              "4                       Columbia Pictures      7"
            ]
          },
          "metadata": {
            "tags": []
          },
          "execution_count": 46
        }
      ]
    },
    {
      "cell_type": "code",
      "metadata": {
        "id": "37tD0U1MXRTy",
        "colab_type": "code",
        "colab": {}
      },
      "source": [
        "answer_ls.append(4)"
      ],
      "execution_count": 47,
      "outputs": []
    },
    {
      "cell_type": "markdown",
      "metadata": {
        "id": "Vju5Rgmv-kJr",
        "colab_type": "text"
      },
      "source": [
        "# 22. Какая студия заработала больше всего денег в жанре комедий за все время?\n",
        "Варианты ответа:\n",
        "1. Warner Bros\n",
        "2. Universal Pictures (Universal)\n",
        "3. Columbia Pictures\n",
        "4. Paramount Pictures\n",
        "5. Walt Disney"
      ]
    },
    {
      "cell_type": "code",
      "metadata": {
        "id": "ZuHigIzP-kJr",
        "colab_type": "code",
        "colab": {
          "base_uri": "https://localhost:8080/",
          "height": 204
        },
        "outputId": "631144dc-1e61-4a5d-9e6c-57138e9711f7"
      },
      "source": [
        "movie_comedy = data[data.genres.str.contains('Comedy')]\n",
        "count_profit = Counter()\n",
        "\n",
        "for i in range(len(movie_comedy)):\n",
        "  product_list = movie_comedy.iloc[i]['production_companies'].split('|')\n",
        "  for product in product_list:\n",
        "         count_profit[product] += movie_comedy.iloc[i]['profit']\n",
        "\n",
        "count_profit_df = pd.DataFrame.from_records(count_profit.most_common(), columns=['production','profit'])\n",
        "count_profit_df.head()"
      ],
      "execution_count": 48,
      "outputs": [
        {
          "output_type": "execute_result",
          "data": {
            "text/html": [
              "<div>\n",
              "<style scoped>\n",
              "    .dataframe tbody tr th:only-of-type {\n",
              "        vertical-align: middle;\n",
              "    }\n",
              "\n",
              "    .dataframe tbody tr th {\n",
              "        vertical-align: top;\n",
              "    }\n",
              "\n",
              "    .dataframe thead th {\n",
              "        text-align: right;\n",
              "    }\n",
              "</style>\n",
              "<table border=\"1\" class=\"dataframe\">\n",
              "  <thead>\n",
              "    <tr style=\"text-align: right;\">\n",
              "      <th></th>\n",
              "      <th>production</th>\n",
              "      <th>profit</th>\n",
              "    </tr>\n",
              "  </thead>\n",
              "  <tbody>\n",
              "    <tr>\n",
              "      <th>0</th>\n",
              "      <td>Universal Pictures</td>\n",
              "      <td>8961545581</td>\n",
              "    </tr>\n",
              "    <tr>\n",
              "      <th>1</th>\n",
              "      <td>Walt Disney Pictures</td>\n",
              "      <td>7669710326</td>\n",
              "    </tr>\n",
              "    <tr>\n",
              "      <th>2</th>\n",
              "      <td>Twentieth Century Fox Film Corporation</td>\n",
              "      <td>5686960294</td>\n",
              "    </tr>\n",
              "    <tr>\n",
              "      <th>3</th>\n",
              "      <td>Columbia Pictures</td>\n",
              "      <td>5646343696</td>\n",
              "    </tr>\n",
              "    <tr>\n",
              "      <th>4</th>\n",
              "      <td>DreamWorks Animation</td>\n",
              "      <td>4789049764</td>\n",
              "    </tr>\n",
              "  </tbody>\n",
              "</table>\n",
              "</div>"
            ],
            "text/plain": [
              "                               production      profit\n",
              "0                      Universal Pictures  8961545581\n",
              "1                    Walt Disney Pictures  7669710326\n",
              "2  Twentieth Century Fox Film Corporation  5686960294\n",
              "3                       Columbia Pictures  5646343696\n",
              "4                    DreamWorks Animation  4789049764"
            ]
          },
          "metadata": {
            "tags": []
          },
          "execution_count": 48
        }
      ]
    },
    {
      "cell_type": "code",
      "metadata": {
        "id": "SjXylQyLXS_X",
        "colab_type": "code",
        "colab": {}
      },
      "source": [
        "answer_ls.append(2)"
      ],
      "execution_count": 49,
      "outputs": []
    },
    {
      "cell_type": "markdown",
      "metadata": {
        "id": "pev_vZZF-kJu",
        "colab_type": "text"
      },
      "source": [
        "# 23. Какая студия заработала больше всего денег в 2012 году?\n",
        "Варианты ответа:\n",
        "1. Universal Pictures (Universal)\n",
        "2. Warner Bros\n",
        "3. Columbia Pictures\n",
        "4. Paramount Pictures\n",
        "5. Lucasfilm"
      ]
    },
    {
      "cell_type": "code",
      "metadata": {
        "id": "IJk6N57w-kJv",
        "colab_type": "code",
        "colab": {
          "base_uri": "https://localhost:8080/",
          "height": 204
        },
        "outputId": "5feae942-4e4b-4c97-f11b-24790cfdaea8"
      },
      "source": [
        "movie_2012 = data[data.release_year == 2012]\n",
        "count_profit = Counter()\n",
        "\n",
        "for i in range(len(movie_2012)):\n",
        "  product_list = movie_2012.iloc[i]['production_companies'].split('|')\n",
        "  for product in product_list:\n",
        "         count_profit[product] += movie_2012.iloc[i]['profit']\n",
        "\n",
        "count_profit_df = pd.DataFrame.from_records(count_profit.most_common(), columns=['production','profit'])\n",
        "count_profit_df.head()"
      ],
      "execution_count": 50,
      "outputs": [
        {
          "output_type": "execute_result",
          "data": {
            "text/html": [
              "<div>\n",
              "<style scoped>\n",
              "    .dataframe tbody tr th:only-of-type {\n",
              "        vertical-align: middle;\n",
              "    }\n",
              "\n",
              "    .dataframe tbody tr th {\n",
              "        vertical-align: top;\n",
              "    }\n",
              "\n",
              "    .dataframe thead th {\n",
              "        text-align: right;\n",
              "    }\n",
              "</style>\n",
              "<table border=\"1\" class=\"dataframe\">\n",
              "  <thead>\n",
              "    <tr style=\"text-align: right;\">\n",
              "      <th></th>\n",
              "      <th>production</th>\n",
              "      <th>profit</th>\n",
              "    </tr>\n",
              "  </thead>\n",
              "  <tbody>\n",
              "    <tr>\n",
              "      <th>0</th>\n",
              "      <td>Columbia Pictures</td>\n",
              "      <td>2501406608</td>\n",
              "    </tr>\n",
              "    <tr>\n",
              "      <th>1</th>\n",
              "      <td>Universal Pictures</td>\n",
              "      <td>1981011579</td>\n",
              "    </tr>\n",
              "    <tr>\n",
              "      <th>2</th>\n",
              "      <td>Marvel Studios</td>\n",
              "      <td>1299557910</td>\n",
              "    </tr>\n",
              "    <tr>\n",
              "      <th>3</th>\n",
              "      <td>Warner Bros.</td>\n",
              "      <td>1258020056</td>\n",
              "    </tr>\n",
              "    <tr>\n",
              "      <th>4</th>\n",
              "      <td>Relativity Media</td>\n",
              "      <td>1032593938</td>\n",
              "    </tr>\n",
              "  </tbody>\n",
              "</table>\n",
              "</div>"
            ],
            "text/plain": [
              "           production      profit\n",
              "0   Columbia Pictures  2501406608\n",
              "1  Universal Pictures  1981011579\n",
              "2      Marvel Studios  1299557910\n",
              "3        Warner Bros.  1258020056\n",
              "4    Relativity Media  1032593938"
            ]
          },
          "metadata": {
            "tags": []
          },
          "execution_count": 50
        }
      ]
    },
    {
      "cell_type": "code",
      "metadata": {
        "id": "JbZWqrv1XjLY",
        "colab_type": "code",
        "colab": {}
      },
      "source": [
        "answer_ls.append(3)"
      ],
      "execution_count": 51,
      "outputs": []
    },
    {
      "cell_type": "markdown",
      "metadata": {
        "id": "NjxzKVXl-kJx",
        "colab_type": "text"
      },
      "source": [
        "# 24. Самый убыточный фильм от Paramount Pictures\n",
        "Варианты ответа:\n",
        "\n",
        "1. K-19: The Widowmaker tt0267626\n",
        "2. Next tt0435705\n",
        "3. Twisted tt0315297\n",
        "4. The Love Guru tt0811138\n",
        "5. The Fighter tt0964517"
      ]
    },
    {
      "cell_type": "code",
      "metadata": {
        "id": "2m_3HLpl-kJy",
        "colab_type": "code",
        "colab": {
          "base_uri": "https://localhost:8080/",
          "height": 35
        },
        "outputId": "1dcc1b4a-010e-4084-8459-29cf1ab619c1"
      },
      "source": [
        "movie_paramount = data[data.production_companies.str.contains('Paramount Pictures')]\n",
        "answer = movie_paramount[movie_paramount.profit == movie_paramount.profit.min()].original_title.to_list()\n",
        "print('Самый убыточный ({}$) фильм от Paramount Pictures - {}'.format(movie_paramount.profit.min(), answer))"
      ],
      "execution_count": 52,
      "outputs": [
        {
          "output_type": "stream",
          "text": [
            "Самый убыточный (-64831034$) фильм от Paramount Pictures - ['K-19: The Widowmaker']\n"
          ],
          "name": "stdout"
        }
      ]
    },
    {
      "cell_type": "code",
      "metadata": {
        "id": "TKVezgwgYoc7",
        "colab_type": "code",
        "colab": {}
      },
      "source": [
        "answer_ls.append(1)"
      ],
      "execution_count": 53,
      "outputs": []
    },
    {
      "cell_type": "markdown",
      "metadata": {
        "id": "9l3GkABh-kJ0",
        "colab_type": "text"
      },
      "source": [
        "# 25. Какой Самый прибыльный год (заработали больше всего)?\n",
        "Варианты ответа:\n",
        "1. 2014\n",
        "2. 2008\n",
        "3. 2012\n",
        "4. 2002\n",
        "5. 2015"
      ]
    },
    {
      "cell_type": "code",
      "metadata": {
        "id": "HBYt2LqE-kJ1",
        "colab_type": "code",
        "colab": {
          "base_uri": "https://localhost:8080/",
          "height": 204
        },
        "outputId": "abc26b8a-45ea-47c5-efe0-fd5d4eff1dee"
      },
      "source": [
        "profit_year = data.groupby(['release_year'])['profit'].sum().sort_values(ascending=False).reset_index()\n",
        "profit_year.head()"
      ],
      "execution_count": 54,
      "outputs": [
        {
          "output_type": "execute_result",
          "data": {
            "text/html": [
              "<div>\n",
              "<style scoped>\n",
              "    .dataframe tbody tr th:only-of-type {\n",
              "        vertical-align: middle;\n",
              "    }\n",
              "\n",
              "    .dataframe tbody tr th {\n",
              "        vertical-align: top;\n",
              "    }\n",
              "\n",
              "    .dataframe thead th {\n",
              "        text-align: right;\n",
              "    }\n",
              "</style>\n",
              "<table border=\"1\" class=\"dataframe\">\n",
              "  <thead>\n",
              "    <tr style=\"text-align: right;\">\n",
              "      <th></th>\n",
              "      <th>release_year</th>\n",
              "      <th>profit</th>\n",
              "    </tr>\n",
              "  </thead>\n",
              "  <tbody>\n",
              "    <tr>\n",
              "      <th>0</th>\n",
              "      <td>2015</td>\n",
              "      <td>18668572378</td>\n",
              "    </tr>\n",
              "    <tr>\n",
              "      <th>1</th>\n",
              "      <td>2014</td>\n",
              "      <td>16397812953</td>\n",
              "    </tr>\n",
              "    <tr>\n",
              "      <th>2</th>\n",
              "      <td>2012</td>\n",
              "      <td>16077001687</td>\n",
              "    </tr>\n",
              "    <tr>\n",
              "      <th>3</th>\n",
              "      <td>2013</td>\n",
              "      <td>15243179791</td>\n",
              "    </tr>\n",
              "    <tr>\n",
              "      <th>4</th>\n",
              "      <td>2011</td>\n",
              "      <td>14730241341</td>\n",
              "    </tr>\n",
              "  </tbody>\n",
              "</table>\n",
              "</div>"
            ],
            "text/plain": [
              "   release_year       profit\n",
              "0          2015  18668572378\n",
              "1          2014  16397812953\n",
              "2          2012  16077001687\n",
              "3          2013  15243179791\n",
              "4          2011  14730241341"
            ]
          },
          "metadata": {
            "tags": []
          },
          "execution_count": 54
        }
      ]
    },
    {
      "cell_type": "code",
      "metadata": {
        "id": "2IN50KkIY_QQ",
        "colab_type": "code",
        "colab": {}
      },
      "source": [
        "answer_ls.append(5)"
      ],
      "execution_count": 55,
      "outputs": []
    },
    {
      "cell_type": "markdown",
      "metadata": {
        "id": "ctIORm2S-kJ4",
        "colab_type": "text"
      },
      "source": [
        "# 26. Какой Самый прибыльный год для студии Warner Bros?\n",
        "Варианты ответа:\n",
        "1. 2014\n",
        "2. 2008\n",
        "3. 2012\n",
        "4. 2010\n",
        "5. 2015"
      ]
    },
    {
      "cell_type": "code",
      "metadata": {
        "id": "5ULyxp1Z-kJ4",
        "colab_type": "code",
        "colab": {
          "base_uri": "https://localhost:8080/",
          "height": 204
        },
        "outputId": "16db627f-6b68-4d1a-8e94-a5bc12a004ee"
      },
      "source": [
        "movie_warner = data[data.production_companies.str.contains('Warner Bros')]\n",
        "\n",
        "profit_year = movie_warner.groupby(['release_year'])['profit'].sum().sort_values(ascending=False).reset_index()\n",
        "profit_year.head()"
      ],
      "execution_count": 56,
      "outputs": [
        {
          "output_type": "execute_result",
          "data": {
            "text/html": [
              "<div>\n",
              "<style scoped>\n",
              "    .dataframe tbody tr th:only-of-type {\n",
              "        vertical-align: middle;\n",
              "    }\n",
              "\n",
              "    .dataframe tbody tr th {\n",
              "        vertical-align: top;\n",
              "    }\n",
              "\n",
              "    .dataframe thead th {\n",
              "        text-align: right;\n",
              "    }\n",
              "</style>\n",
              "<table border=\"1\" class=\"dataframe\">\n",
              "  <thead>\n",
              "    <tr style=\"text-align: right;\">\n",
              "      <th></th>\n",
              "      <th>release_year</th>\n",
              "      <th>profit</th>\n",
              "    </tr>\n",
              "  </thead>\n",
              "  <tbody>\n",
              "    <tr>\n",
              "      <th>0</th>\n",
              "      <td>2014</td>\n",
              "      <td>2295464519</td>\n",
              "    </tr>\n",
              "    <tr>\n",
              "      <th>1</th>\n",
              "      <td>2007</td>\n",
              "      <td>2201675217</td>\n",
              "    </tr>\n",
              "    <tr>\n",
              "      <th>2</th>\n",
              "      <td>2008</td>\n",
              "      <td>2134595031</td>\n",
              "    </tr>\n",
              "    <tr>\n",
              "      <th>3</th>\n",
              "      <td>2010</td>\n",
              "      <td>1974712985</td>\n",
              "    </tr>\n",
              "    <tr>\n",
              "      <th>4</th>\n",
              "      <td>2011</td>\n",
              "      <td>1871393682</td>\n",
              "    </tr>\n",
              "  </tbody>\n",
              "</table>\n",
              "</div>"
            ],
            "text/plain": [
              "   release_year      profit\n",
              "0          2014  2295464519\n",
              "1          2007  2201675217\n",
              "2          2008  2134595031\n",
              "3          2010  1974712985\n",
              "4          2011  1871393682"
            ]
          },
          "metadata": {
            "tags": []
          },
          "execution_count": 56
        }
      ]
    },
    {
      "cell_type": "code",
      "metadata": {
        "id": "6Z2j-pcDZMmS",
        "colab_type": "code",
        "colab": {}
      },
      "source": [
        "answer_ls.append(1)"
      ],
      "execution_count": 57,
      "outputs": []
    },
    {
      "cell_type": "markdown",
      "metadata": {
        "id": "JXakZPt7-kJ7",
        "colab_type": "text"
      },
      "source": [
        "# 27. В каком месяце за все годы суммарно вышло больше всего фильмов?\n",
        "Варианты ответа:\n",
        "1. Январь\n",
        "2. Июнь\n",
        "3. Декабрь\n",
        "4. Сентябрь\n",
        "5. Май"
      ]
    },
    {
      "cell_type": "code",
      "metadata": {
        "id": "oSY51FyC-kJ7",
        "colab_type": "code",
        "colab": {
          "base_uri": "https://localhost:8080/",
          "height": 204
        },
        "outputId": "7fb07923-79d4-4e84-cb3f-f2b5653e7d37"
      },
      "source": [
        "count_month = data.release_month.value_counts().reset_index()\n",
        "count_month.head()"
      ],
      "execution_count": 58,
      "outputs": [
        {
          "output_type": "execute_result",
          "data": {
            "text/html": [
              "<div>\n",
              "<style scoped>\n",
              "    .dataframe tbody tr th:only-of-type {\n",
              "        vertical-align: middle;\n",
              "    }\n",
              "\n",
              "    .dataframe tbody tr th {\n",
              "        vertical-align: top;\n",
              "    }\n",
              "\n",
              "    .dataframe thead th {\n",
              "        text-align: right;\n",
              "    }\n",
              "</style>\n",
              "<table border=\"1\" class=\"dataframe\">\n",
              "  <thead>\n",
              "    <tr style=\"text-align: right;\">\n",
              "      <th></th>\n",
              "      <th>index</th>\n",
              "      <th>release_month</th>\n",
              "    </tr>\n",
              "  </thead>\n",
              "  <tbody>\n",
              "    <tr>\n",
              "      <th>0</th>\n",
              "      <td>9</td>\n",
              "      <td>227</td>\n",
              "    </tr>\n",
              "    <tr>\n",
              "      <th>1</th>\n",
              "      <td>12</td>\n",
              "      <td>191</td>\n",
              "    </tr>\n",
              "    <tr>\n",
              "      <th>2</th>\n",
              "      <td>10</td>\n",
              "      <td>186</td>\n",
              "    </tr>\n",
              "    <tr>\n",
              "      <th>3</th>\n",
              "      <td>8</td>\n",
              "      <td>161</td>\n",
              "    </tr>\n",
              "    <tr>\n",
              "      <th>4</th>\n",
              "      <td>3</td>\n",
              "      <td>156</td>\n",
              "    </tr>\n",
              "  </tbody>\n",
              "</table>\n",
              "</div>"
            ],
            "text/plain": [
              "   index  release_month\n",
              "0      9            227\n",
              "1     12            191\n",
              "2     10            186\n",
              "3      8            161\n",
              "4      3            156"
            ]
          },
          "metadata": {
            "tags": []
          },
          "execution_count": 58
        }
      ]
    },
    {
      "cell_type": "code",
      "metadata": {
        "id": "ef1FnXv3drrI",
        "colab_type": "code",
        "colab": {}
      },
      "source": [
        "answer_ls.append(4)"
      ],
      "execution_count": 59,
      "outputs": []
    },
    {
      "cell_type": "markdown",
      "metadata": {
        "id": "q5xtq0D0-kJ-",
        "colab_type": "text"
      },
      "source": [
        "# 28. Сколько суммарно вышло фильмов летом? (за июнь, июль, август)\n",
        "Варианты ответа:\n",
        "1. 345\n",
        "2. 450\n",
        "3. 478\n",
        "4. 523\n",
        "5. 381"
      ]
    },
    {
      "cell_type": "code",
      "metadata": {
        "id": "S5dsNcwo-kJ-",
        "colab_type": "code",
        "colab": {
          "base_uri": "https://localhost:8080/",
          "height": 173
        },
        "outputId": "b627b253-f24c-413d-f759-5bdcaf86f47b"
      },
      "source": [
        "count_season = data.release_season.value_counts().reset_index()\n",
        "count_season.head()"
      ],
      "execution_count": 60,
      "outputs": [
        {
          "output_type": "execute_result",
          "data": {
            "text/html": [
              "<div>\n",
              "<style scoped>\n",
              "    .dataframe tbody tr th:only-of-type {\n",
              "        vertical-align: middle;\n",
              "    }\n",
              "\n",
              "    .dataframe tbody tr th {\n",
              "        vertical-align: top;\n",
              "    }\n",
              "\n",
              "    .dataframe thead th {\n",
              "        text-align: right;\n",
              "    }\n",
              "</style>\n",
              "<table border=\"1\" class=\"dataframe\">\n",
              "  <thead>\n",
              "    <tr style=\"text-align: right;\">\n",
              "      <th></th>\n",
              "      <th>index</th>\n",
              "      <th>release_season</th>\n",
              "    </tr>\n",
              "  </thead>\n",
              "  <tbody>\n",
              "    <tr>\n",
              "      <th>0</th>\n",
              "      <td>autumn</td>\n",
              "      <td>559</td>\n",
              "    </tr>\n",
              "    <tr>\n",
              "      <th>1</th>\n",
              "      <td>summer</td>\n",
              "      <td>450</td>\n",
              "    </tr>\n",
              "    <tr>\n",
              "      <th>2</th>\n",
              "      <td>spring</td>\n",
              "      <td>445</td>\n",
              "    </tr>\n",
              "    <tr>\n",
              "      <th>3</th>\n",
              "      <td>winter</td>\n",
              "      <td>436</td>\n",
              "    </tr>\n",
              "  </tbody>\n",
              "</table>\n",
              "</div>"
            ],
            "text/plain": [
              "    index  release_season\n",
              "0  autumn             559\n",
              "1  summer             450\n",
              "2  spring             445\n",
              "3  winter             436"
            ]
          },
          "metadata": {
            "tags": []
          },
          "execution_count": 60
        }
      ]
    },
    {
      "cell_type": "code",
      "metadata": {
        "id": "Nw1Hr92td5Zq",
        "colab_type": "code",
        "colab": {}
      },
      "source": [
        "answer_ls.append(2)"
      ],
      "execution_count": 61,
      "outputs": []
    },
    {
      "cell_type": "markdown",
      "metadata": {
        "id": "LfGVTCm8-kKB",
        "colab_type": "text"
      },
      "source": [
        "# 29. Какой режисер выпускает (суммарно по годам) больше всего фильмов зимой?\n",
        "Варианты ответов:\n",
        "1. Steven Soderbergh\n",
        "2. Christopher Nolan\n",
        "3. Clint Eastwood\n",
        "4. Ridley Scott\n",
        "5. Peter Jackson"
      ]
    },
    {
      "cell_type": "code",
      "metadata": {
        "id": "IF0wzxNX-kKB",
        "colab_type": "code",
        "colab": {
          "base_uri": "https://localhost:8080/",
          "height": 204
        },
        "outputId": "28f59aac-9bd5-44c8-b3ca-7c069b6af7e6"
      },
      "source": [
        "movie_winter = data[data.release_season == 'winter']\n",
        "count_movie = Counter()\n",
        "\n",
        "for i in range(len(movie_winter)):\n",
        "  director_list = movie_winter.iloc[i]['director'].split('|')\n",
        "  for director in director_list:\n",
        "         count_movie[director] += 1\n",
        "\n",
        "count_movie_df = pd.DataFrame.from_records(count_movie.most_common(), columns=['director','count'])\n",
        "count_movie_df.head()"
      ],
      "execution_count": 62,
      "outputs": [
        {
          "output_type": "execute_result",
          "data": {
            "text/html": [
              "<div>\n",
              "<style scoped>\n",
              "    .dataframe tbody tr th:only-of-type {\n",
              "        vertical-align: middle;\n",
              "    }\n",
              "\n",
              "    .dataframe tbody tr th {\n",
              "        vertical-align: top;\n",
              "    }\n",
              "\n",
              "    .dataframe thead th {\n",
              "        text-align: right;\n",
              "    }\n",
              "</style>\n",
              "<table border=\"1\" class=\"dataframe\">\n",
              "  <thead>\n",
              "    <tr style=\"text-align: right;\">\n",
              "      <th></th>\n",
              "      <th>director</th>\n",
              "      <th>count</th>\n",
              "    </tr>\n",
              "  </thead>\n",
              "  <tbody>\n",
              "    <tr>\n",
              "      <th>0</th>\n",
              "      <td>Peter Jackson</td>\n",
              "      <td>7</td>\n",
              "    </tr>\n",
              "    <tr>\n",
              "      <th>1</th>\n",
              "      <td>Clint Eastwood</td>\n",
              "      <td>6</td>\n",
              "    </tr>\n",
              "    <tr>\n",
              "      <th>2</th>\n",
              "      <td>Steven Soderbergh</td>\n",
              "      <td>6</td>\n",
              "    </tr>\n",
              "    <tr>\n",
              "      <th>3</th>\n",
              "      <td>Shawn Levy</td>\n",
              "      <td>4</td>\n",
              "    </tr>\n",
              "    <tr>\n",
              "      <th>4</th>\n",
              "      <td>Nancy Meyers</td>\n",
              "      <td>4</td>\n",
              "    </tr>\n",
              "  </tbody>\n",
              "</table>\n",
              "</div>"
            ],
            "text/plain": [
              "            director  count\n",
              "0      Peter Jackson      7\n",
              "1     Clint Eastwood      6\n",
              "2  Steven Soderbergh      6\n",
              "3         Shawn Levy      4\n",
              "4       Nancy Meyers      4"
            ]
          },
          "metadata": {
            "tags": []
          },
          "execution_count": 62
        }
      ]
    },
    {
      "cell_type": "code",
      "metadata": {
        "id": "R9Op2Xr7eQ-L",
        "colab_type": "code",
        "colab": {}
      },
      "source": [
        "answer_ls.append(5)"
      ],
      "execution_count": 63,
      "outputs": []
    },
    {
      "cell_type": "markdown",
      "metadata": {
        "id": "Tzg-cOVx-kKE",
        "colab_type": "text"
      },
      "source": [
        "# 30. Какой месяц чаще всего по годам самый прибыльный?\n",
        "Варианты ответа:\n",
        "1. Январь\n",
        "2. Июнь\n",
        "3. Декабрь\n",
        "4. Сентябрь\n",
        "5. Май"
      ]
    },
    {
      "cell_type": "code",
      "metadata": {
        "id": "W7uRther-kKF",
        "colab_type": "code",
        "colab": {
          "base_uri": "https://localhost:8080/",
          "height": 173
        },
        "outputId": "bcf391cd-2fee-4256-a8b4-3063feefae2b"
      },
      "source": [
        "count_month = Counter()\n",
        "\n",
        "for i in data.release_year.unique():\n",
        "  year_df = data[data['release_year'] == i]\n",
        "  month_max_profit = year_df.groupby(['release_month'])['profit'].sum().sort_values(ascending=False)\n",
        "  count_month[month_max_profit.index[0]] += +1\n",
        "\n",
        "count_month_df = pd.DataFrame.from_records(count_month.most_common(), columns=['month','count'])\n",
        "count_month_df.head()"
      ],
      "execution_count": 64,
      "outputs": [
        {
          "output_type": "execute_result",
          "data": {
            "text/html": [
              "<div>\n",
              "<style scoped>\n",
              "    .dataframe tbody tr th:only-of-type {\n",
              "        vertical-align: middle;\n",
              "    }\n",
              "\n",
              "    .dataframe tbody tr th {\n",
              "        vertical-align: top;\n",
              "    }\n",
              "\n",
              "    .dataframe thead th {\n",
              "        text-align: right;\n",
              "    }\n",
              "</style>\n",
              "<table border=\"1\" class=\"dataframe\">\n",
              "  <thead>\n",
              "    <tr style=\"text-align: right;\">\n",
              "      <th></th>\n",
              "      <th>month</th>\n",
              "      <th>count</th>\n",
              "    </tr>\n",
              "  </thead>\n",
              "  <tbody>\n",
              "    <tr>\n",
              "      <th>0</th>\n",
              "      <td>6</td>\n",
              "      <td>7</td>\n",
              "    </tr>\n",
              "    <tr>\n",
              "      <th>1</th>\n",
              "      <td>5</td>\n",
              "      <td>4</td>\n",
              "    </tr>\n",
              "    <tr>\n",
              "      <th>2</th>\n",
              "      <td>12</td>\n",
              "      <td>4</td>\n",
              "    </tr>\n",
              "    <tr>\n",
              "      <th>3</th>\n",
              "      <td>7</td>\n",
              "      <td>1</td>\n",
              "    </tr>\n",
              "  </tbody>\n",
              "</table>\n",
              "</div>"
            ],
            "text/plain": [
              "   month  count\n",
              "0      6      7\n",
              "1      5      4\n",
              "2     12      4\n",
              "3      7      1"
            ]
          },
          "metadata": {
            "tags": []
          },
          "execution_count": 64
        }
      ]
    },
    {
      "cell_type": "code",
      "metadata": {
        "id": "5qGIygyai9mt",
        "colab_type": "code",
        "colab": {}
      },
      "source": [
        "answer_ls.append(2)"
      ],
      "execution_count": 65,
      "outputs": []
    },
    {
      "cell_type": "markdown",
      "metadata": {
        "id": "eG3MHyR2-kKJ",
        "colab_type": "text"
      },
      "source": [
        "# 31. Названия фильмов какой студии в среднем самые длинные по количеству символов?\n",
        "Варианты ответа:\n",
        "1. Universal Pictures (Universal)\n",
        "2. Warner Bros\n",
        "3. Jim Henson Company, The\n",
        "4. Paramount Pictures\n",
        "5. Four By Two Productions"
      ]
    },
    {
      "cell_type": "code",
      "metadata": {
        "id": "H2U_19ak-kKJ",
        "colab_type": "code",
        "colab": {
          "base_uri": "https://localhost:8080/",
          "height": 204
        },
        "outputId": "dd96a2b1-3ef0-4d2f-a412-cfd0cb071a52"
      },
      "source": [
        "# здесь используется два счетчика при проходе через датасет\n",
        "count_movie = Counter()\n",
        "count_len = Counter()\n",
        "\n",
        "for i in range(len(data)):\n",
        "  product_list = data.iloc[i]['production_companies'].split('|')\n",
        "  for product in product_list:\n",
        "         count_movie[product] += 1\n",
        "         count_len[product] += len(data.iloc[i]['original_title'])\n",
        "  \n",
        "count_movie_df = pd.DataFrame.from_records(count_movie.most_common(), columns=['product','count_movie'])\n",
        "count_len_df = pd.DataFrame.from_records(count_len.most_common(), columns=['product','sum_len_title'])\n",
        "\n",
        "# переводим в датафрейм формат и объединяем результаты счетчиков\n",
        "# находим искомую метрику\n",
        "count_mean_len = count_movie_df.merge(count_len_df, on='product', how='left')\n",
        "count_mean_len['mean_len_title'] = count_mean_len.sum_len_title/count_mean_len.count_movie\n",
        "count_mean_len = count_mean_len.sort_values('mean_len_title', ascending=False)\n",
        "count_mean_len.head()"
      ],
      "execution_count": 66,
      "outputs": [
        {
          "output_type": "execute_result",
          "data": {
            "text/html": [
              "<div>\n",
              "<style scoped>\n",
              "    .dataframe tbody tr th:only-of-type {\n",
              "        vertical-align: middle;\n",
              "    }\n",
              "\n",
              "    .dataframe tbody tr th {\n",
              "        vertical-align: top;\n",
              "    }\n",
              "\n",
              "    .dataframe thead th {\n",
              "        text-align: right;\n",
              "    }\n",
              "</style>\n",
              "<table border=\"1\" class=\"dataframe\">\n",
              "  <thead>\n",
              "    <tr style=\"text-align: right;\">\n",
              "      <th></th>\n",
              "      <th>product</th>\n",
              "      <th>count_movie</th>\n",
              "      <th>sum_len_title</th>\n",
              "      <th>mean_len_title</th>\n",
              "    </tr>\n",
              "  </thead>\n",
              "  <tbody>\n",
              "    <tr>\n",
              "      <th>1531</th>\n",
              "      <td>Four By Two Productions</td>\n",
              "      <td>1</td>\n",
              "      <td>83</td>\n",
              "      <td>83.0</td>\n",
              "    </tr>\n",
              "    <tr>\n",
              "      <th>802</th>\n",
              "      <td>Jim Henson Company, The</td>\n",
              "      <td>1</td>\n",
              "      <td>59</td>\n",
              "      <td>59.0</td>\n",
              "    </tr>\n",
              "    <tr>\n",
              "      <th>1295</th>\n",
              "      <td>Dos Corazones</td>\n",
              "      <td>1</td>\n",
              "      <td>47</td>\n",
              "      <td>47.0</td>\n",
              "    </tr>\n",
              "    <tr>\n",
              "      <th>831</th>\n",
              "      <td>Museum Canada Productions</td>\n",
              "      <td>1</td>\n",
              "      <td>46</td>\n",
              "      <td>46.0</td>\n",
              "    </tr>\n",
              "    <tr>\n",
              "      <th>877</th>\n",
              "      <td>Polsky Films</td>\n",
              "      <td>1</td>\n",
              "      <td>46</td>\n",
              "      <td>46.0</td>\n",
              "    </tr>\n",
              "  </tbody>\n",
              "</table>\n",
              "</div>"
            ],
            "text/plain": [
              "                        product  count_movie  sum_len_title  mean_len_title\n",
              "1531    Four By Two Productions            1             83            83.0\n",
              "802     Jim Henson Company, The            1             59            59.0\n",
              "1295              Dos Corazones            1             47            47.0\n",
              "831   Museum Canada Productions            1             46            46.0\n",
              "877                Polsky Films            1             46            46.0"
            ]
          },
          "metadata": {
            "tags": []
          },
          "execution_count": 66
        }
      ]
    },
    {
      "cell_type": "code",
      "metadata": {
        "id": "0DbQKimqqK1f",
        "colab_type": "code",
        "colab": {}
      },
      "source": [
        "answer_ls.append(5)"
      ],
      "execution_count": 67,
      "outputs": []
    },
    {
      "cell_type": "markdown",
      "metadata": {
        "id": "FDfI8Nix-kKM",
        "colab_type": "text"
      },
      "source": [
        "# 32. Названия фильмов какой студии в среднем самые длинные по количеству слов?\n",
        "Варианты ответа:\n",
        "1. Universal Pictures (Universal)\n",
        "2. Warner Bros\n",
        "3. Jim Henson Company, The\n",
        "4. Paramount Pictures\n",
        "5. Four By Two Productions"
      ]
    },
    {
      "cell_type": "code",
      "metadata": {
        "id": "L6zAAXuf-kKN",
        "colab_type": "code",
        "colab": {
          "base_uri": "https://localhost:8080/",
          "height": 204
        },
        "outputId": "0cbea59a-36f0-4981-82f4-725e0b5e373a"
      },
      "source": [
        "count_movie = Counter()\n",
        "count_len = Counter()\n",
        "\n",
        "for i in range(len(data)):\n",
        "  product_list = data.iloc[i]['production_companies'].split('|')\n",
        "  for product in product_list:\n",
        "         count_movie[product] += 1\n",
        "         count_len[product] += len(data.iloc[i]['original_title'].split())\n",
        "  \n",
        "count_movie_df = pd.DataFrame.from_records(count_movie.most_common(), columns=['product','count_movie'])\n",
        "count_len_df = pd.DataFrame.from_records(count_len.most_common(), columns=['product','sum_len_word'])\n",
        "\n",
        "count_mean_len = count_movie_df.merge(count_len_df, on='product', how='left')\n",
        "count_mean_len['mean_len_word'] = count_mean_len.sum_len_word/count_mean_len.count_movie\n",
        "count_mean_len = count_mean_len.sort_values('mean_len_word', ascending=False)\n",
        "count_mean_len.head()"
      ],
      "execution_count": 68,
      "outputs": [
        {
          "output_type": "execute_result",
          "data": {
            "text/html": [
              "<div>\n",
              "<style scoped>\n",
              "    .dataframe tbody tr th:only-of-type {\n",
              "        vertical-align: middle;\n",
              "    }\n",
              "\n",
              "    .dataframe tbody tr th {\n",
              "        vertical-align: top;\n",
              "    }\n",
              "\n",
              "    .dataframe thead th {\n",
              "        text-align: right;\n",
              "    }\n",
              "</style>\n",
              "<table border=\"1\" class=\"dataframe\">\n",
              "  <thead>\n",
              "    <tr style=\"text-align: right;\">\n",
              "      <th></th>\n",
              "      <th>product</th>\n",
              "      <th>count_movie</th>\n",
              "      <th>sum_len_word</th>\n",
              "      <th>mean_len_word</th>\n",
              "    </tr>\n",
              "  </thead>\n",
              "  <tbody>\n",
              "    <tr>\n",
              "      <th>1531</th>\n",
              "      <td>Four By Two Productions</td>\n",
              "      <td>1</td>\n",
              "      <td>12</td>\n",
              "      <td>12.0</td>\n",
              "    </tr>\n",
              "    <tr>\n",
              "      <th>802</th>\n",
              "      <td>Jim Henson Company, The</td>\n",
              "      <td>1</td>\n",
              "      <td>10</td>\n",
              "      <td>10.0</td>\n",
              "    </tr>\n",
              "    <tr>\n",
              "      <th>555</th>\n",
              "      <td>The Saul Zaentz Company</td>\n",
              "      <td>2</td>\n",
              "      <td>18</td>\n",
              "      <td>9.0</td>\n",
              "    </tr>\n",
              "    <tr>\n",
              "      <th>1295</th>\n",
              "      <td>Dos Corazones</td>\n",
              "      <td>1</td>\n",
              "      <td>9</td>\n",
              "      <td>9.0</td>\n",
              "    </tr>\n",
              "    <tr>\n",
              "      <th>877</th>\n",
              "      <td>Polsky Films</td>\n",
              "      <td>1</td>\n",
              "      <td>9</td>\n",
              "      <td>9.0</td>\n",
              "    </tr>\n",
              "  </tbody>\n",
              "</table>\n",
              "</div>"
            ],
            "text/plain": [
              "                      product  count_movie  sum_len_word  mean_len_word\n",
              "1531  Four By Two Productions            1            12           12.0\n",
              "802   Jim Henson Company, The            1            10           10.0\n",
              "555   The Saul Zaentz Company            2            18            9.0\n",
              "1295            Dos Corazones            1             9            9.0\n",
              "877              Polsky Films            1             9            9.0"
            ]
          },
          "metadata": {
            "tags": []
          },
          "execution_count": 68
        }
      ]
    },
    {
      "cell_type": "code",
      "metadata": {
        "id": "cJRPk5hAqlLj",
        "colab_type": "code",
        "colab": {}
      },
      "source": [
        "answer_ls.append(5)"
      ],
      "execution_count": 69,
      "outputs": []
    },
    {
      "cell_type": "markdown",
      "metadata": {
        "id": "lPK-0Dh8-kKR",
        "colab_type": "text"
      },
      "source": [
        "# 33. Сколько разных слов используется в названиях фильмов?(без учета регистра)\n",
        "Варианты ответа:\n",
        "1. 6540\n",
        "2. 1002\n",
        "3. 2461\n",
        "4. 28304\n",
        "5. 3432"
      ]
    },
    {
      "cell_type": "code",
      "metadata": {
        "id": "nITE0_T2-kKR",
        "colab_type": "code",
        "colab": {
          "base_uri": "https://localhost:8080/",
          "height": 35
        },
        "outputId": "2b8aad4f-5865-4d02-ae3c-1ebc3e82f01b"
      },
      "source": [
        "count_word = Counter()\n",
        "\n",
        "for i in range(len(data)):\n",
        "  word_list = data.iloc[i]['original_title'].lower().split(' ')\n",
        "  for word in word_list:\n",
        "         count_word[word] += 1\n",
        "\n",
        "count_word_df = pd.DataFrame.from_records(count_word.most_common(), columns=['word','count'])\n",
        "count_word_df.word.nunique()"
      ],
      "execution_count": 70,
      "outputs": [
        {
          "output_type": "execute_result",
          "data": {
            "text/plain": [
              "2462"
            ]
          },
          "metadata": {
            "tags": []
          },
          "execution_count": 70
        }
      ]
    },
    {
      "cell_type": "code",
      "metadata": {
        "id": "CC_SYtEC2ARe",
        "colab_type": "code",
        "colab": {}
      },
      "source": [
        "answer_ls.append(3)"
      ],
      "execution_count": 71,
      "outputs": []
    },
    {
      "cell_type": "markdown",
      "metadata": {
        "id": "oudPu6XG-kKU",
        "colab_type": "text"
      },
      "source": [
        "# 34. Какие фильмы входят в 1 процент лучших по рейтингу?\n",
        "Варианты ответа:\n",
        "1. Inside Out, Gone Girl, 12 Years a Slave\n",
        "2. BloodRayne, The Adventures of Rocky & Bullwinkle\n",
        "3. The Lord of the Rings: The Return of the King\n",
        "4. 300, Lucky Number Slevin"
      ]
    },
    {
      "cell_type": "code",
      "metadata": {
        "id": "mxKdRJNT-kKW",
        "colab_type": "code",
        "colab": {
          "base_uri": "https://localhost:8080/",
          "height": 917
        },
        "outputId": "be1e93b9-3b5d-46ce-cf9d-d05d1f207576"
      },
      "source": [
        "# находим величну порогового значения рейтинга\n",
        "top_vote = data['vote_average'].quantile(0.99)\n",
        "\n",
        "# фильтруем датасет по этому порогу\n",
        "top_movie = data[data.vote_average >= top_vote].sort_values('vote_average', ascending=False)\n",
        "top_movie = top_movie[['original_title', 'vote_average']]\n",
        "top_movie"
      ],
      "execution_count": 72,
      "outputs": [
        {
          "output_type": "execute_result",
          "data": {
            "text/html": [
              "<div>\n",
              "<style scoped>\n",
              "    .dataframe tbody tr th:only-of-type {\n",
              "        vertical-align: middle;\n",
              "    }\n",
              "\n",
              "    .dataframe tbody tr th {\n",
              "        vertical-align: top;\n",
              "    }\n",
              "\n",
              "    .dataframe thead th {\n",
              "        text-align: right;\n",
              "    }\n",
              "</style>\n",
              "<table border=\"1\" class=\"dataframe\">\n",
              "  <thead>\n",
              "    <tr style=\"text-align: right;\">\n",
              "      <th></th>\n",
              "      <th>original_title</th>\n",
              "      <th>vote_average</th>\n",
              "    </tr>\n",
              "  </thead>\n",
              "  <tbody>\n",
              "    <tr>\n",
              "      <th>600</th>\n",
              "      <td>The Dark Knight</td>\n",
              "      <td>8.1</td>\n",
              "    </tr>\n",
              "    <tr>\n",
              "      <th>9</th>\n",
              "      <td>Inside Out</td>\n",
              "      <td>8.0</td>\n",
              "    </tr>\n",
              "    <tr>\n",
              "      <th>34</th>\n",
              "      <td>Room</td>\n",
              "      <td>8.0</td>\n",
              "    </tr>\n",
              "    <tr>\n",
              "      <th>118</th>\n",
              "      <td>Interstellar</td>\n",
              "      <td>8.0</td>\n",
              "    </tr>\n",
              "    <tr>\n",
              "      <th>125</th>\n",
              "      <td>The Imitation Game</td>\n",
              "      <td>8.0</td>\n",
              "    </tr>\n",
              "    <tr>\n",
              "      <th>370</th>\n",
              "      <td>Inception</td>\n",
              "      <td>7.9</td>\n",
              "    </tr>\n",
              "    <tr>\n",
              "      <th>1192</th>\n",
              "      <td>12 Years a Slave</td>\n",
              "      <td>7.9</td>\n",
              "    </tr>\n",
              "    <tr>\n",
              "      <th>1184</th>\n",
              "      <td>The Wolf of Wall Street</td>\n",
              "      <td>7.9</td>\n",
              "    </tr>\n",
              "    <tr>\n",
              "      <th>1082</th>\n",
              "      <td>The Lord of the Rings: The Return of the King</td>\n",
              "      <td>7.9</td>\n",
              "    </tr>\n",
              "    <tr>\n",
              "      <th>873</th>\n",
              "      <td>The Pianist</td>\n",
              "      <td>7.9</td>\n",
              "    </tr>\n",
              "    <tr>\n",
              "      <th>1801</th>\n",
              "      <td>Memento</td>\n",
              "      <td>7.9</td>\n",
              "    </tr>\n",
              "    <tr>\n",
              "      <th>119</th>\n",
              "      <td>Guardians of the Galaxy</td>\n",
              "      <td>7.9</td>\n",
              "    </tr>\n",
              "    <tr>\n",
              "      <th>138</th>\n",
              "      <td>The Grand Budapest Hotel</td>\n",
              "      <td>7.9</td>\n",
              "    </tr>\n",
              "    <tr>\n",
              "      <th>128</th>\n",
              "      <td>Gone Girl</td>\n",
              "      <td>7.9</td>\n",
              "    </tr>\n",
              "    <tr>\n",
              "      <th>283</th>\n",
              "      <td>Mr. Nobody</td>\n",
              "      <td>7.8</td>\n",
              "    </tr>\n",
              "    <tr>\n",
              "      <th>1689</th>\n",
              "      <td>There Will Be Blood</td>\n",
              "      <td>7.8</td>\n",
              "    </tr>\n",
              "    <tr>\n",
              "      <th>1564</th>\n",
              "      <td>Eternal Sunshine of the Spotless Mind</td>\n",
              "      <td>7.8</td>\n",
              "    </tr>\n",
              "    <tr>\n",
              "      <th>1445</th>\n",
              "      <td>The Prestige</td>\n",
              "      <td>7.8</td>\n",
              "    </tr>\n",
              "    <tr>\n",
              "      <th>1214</th>\n",
              "      <td>Dallas Buyers Club</td>\n",
              "      <td>7.8</td>\n",
              "    </tr>\n",
              "    <tr>\n",
              "      <th>1206</th>\n",
              "      <td>Prisoners</td>\n",
              "      <td>7.8</td>\n",
              "    </tr>\n",
              "    <tr>\n",
              "      <th>124</th>\n",
              "      <td>Big Hero 6</td>\n",
              "      <td>7.8</td>\n",
              "    </tr>\n",
              "    <tr>\n",
              "      <th>1189</th>\n",
              "      <td>Her</td>\n",
              "      <td>7.8</td>\n",
              "    </tr>\n",
              "    <tr>\n",
              "      <th>316</th>\n",
              "      <td>3 Idiots</td>\n",
              "      <td>7.8</td>\n",
              "    </tr>\n",
              "    <tr>\n",
              "      <th>864</th>\n",
              "      <td>The Lord of the Rings: The Two Towers</td>\n",
              "      <td>7.8</td>\n",
              "    </tr>\n",
              "    <tr>\n",
              "      <th>155</th>\n",
              "      <td>The Theory of Everything</td>\n",
              "      <td>7.8</td>\n",
              "    </tr>\n",
              "    <tr>\n",
              "      <th>28</th>\n",
              "      <td>Spotlight</td>\n",
              "      <td>7.8</td>\n",
              "    </tr>\n",
              "    <tr>\n",
              "      <th>177</th>\n",
              "      <td>The Fault in Our Stars</td>\n",
              "      <td>7.8</td>\n",
              "    </tr>\n",
              "    <tr>\n",
              "      <th>497</th>\n",
              "      <td>The Lord of the Rings: The Fellowship of the Ring</td>\n",
              "      <td>7.8</td>\n",
              "    </tr>\n",
              "  </tbody>\n",
              "</table>\n",
              "</div>"
            ],
            "text/plain": [
              "                                         original_title  vote_average\n",
              "600                                     The Dark Knight           8.1\n",
              "9                                            Inside Out           8.0\n",
              "34                                                 Room           8.0\n",
              "118                                        Interstellar           8.0\n",
              "125                                  The Imitation Game           8.0\n",
              "370                                           Inception           7.9\n",
              "1192                                   12 Years a Slave           7.9\n",
              "1184                            The Wolf of Wall Street           7.9\n",
              "1082      The Lord of the Rings: The Return of the King           7.9\n",
              "873                                         The Pianist           7.9\n",
              "1801                                            Memento           7.9\n",
              "119                             Guardians of the Galaxy           7.9\n",
              "138                            The Grand Budapest Hotel           7.9\n",
              "128                                           Gone Girl           7.9\n",
              "283                                          Mr. Nobody           7.8\n",
              "1689                                There Will Be Blood           7.8\n",
              "1564              Eternal Sunshine of the Spotless Mind           7.8\n",
              "1445                                       The Prestige           7.8\n",
              "1214                                 Dallas Buyers Club           7.8\n",
              "1206                                          Prisoners           7.8\n",
              "124                                          Big Hero 6           7.8\n",
              "1189                                                Her           7.8\n",
              "316                                            3 Idiots           7.8\n",
              "864               The Lord of the Rings: The Two Towers           7.8\n",
              "155                            The Theory of Everything           7.8\n",
              "28                                            Spotlight           7.8\n",
              "177                              The Fault in Our Stars           7.8\n",
              "497   The Lord of the Rings: The Fellowship of the Ring           7.8"
            ]
          },
          "metadata": {
            "tags": []
          },
          "execution_count": 72
        }
      ]
    },
    {
      "cell_type": "code",
      "metadata": {
        "id": "BttX7Hfu4erm",
        "colab_type": "code",
        "colab": {}
      },
      "source": [
        "answer_ls.append(1)"
      ],
      "execution_count": 73,
      "outputs": []
    },
    {
      "cell_type": "markdown",
      "metadata": {
        "id": "c_uu2luC-kKZ",
        "colab_type": "text"
      },
      "source": [
        "# 35. Какие актеры чаще всего снимаются в одном фильме вместе\n",
        "Варианты ответа:\n",
        "1. Johnny Depp & Helena Bonham Carter\n",
        "2. Hugh Jackman & Ian McKellen\n",
        "3. Vin Diesel & Paul Walker\n",
        "4. Adam Sandler & Kevin James\n",
        "5. Daniel Radcliffe & Rupert Grint"
      ]
    },
    {
      "cell_type": "code",
      "metadata": {
        "id": "3axp6gai-kKZ",
        "colab_type": "code",
        "colab": {
          "base_uri": "https://localhost:8080/",
          "height": 359
        },
        "outputId": "76aa61ad-eba8-49f3-e104-9dfa0698c88e"
      },
      "source": [
        "# решил не отходить от схемы. уверен можно сделать проще\n",
        "# первым этапом прохожу через весь датасет и подсчитываю актеров.\n",
        "count_cast = Counter()\n",
        "\n",
        "for i in range(len(data)):\n",
        "  cast_list = data.iloc[i]['cast'].lower().split('|')\n",
        "  for cast in cast_list:\n",
        "         count_cast[cast] += 1\n",
        "\n",
        "# перевожу в формат dataframe для удобства\n",
        "count_cast_df = pd.DataFrame.from_records(count_cast.most_common(), columns=['cast','count'])\n",
        "# сам подсчет актеров мне не особо нужен, главное на выходе список актеров list_actors, которые встречаются в БД\n",
        "list_actors = count_cast_df.cast.unique()\n",
        "\n",
        "# вторым этапом подсчитываю сочетания актеров в фильмах\n",
        "count_actors = Counter()\n",
        "\n",
        "# использую цикл по списку найденных актеров\n",
        "# прохожу построчно через весь датасет\n",
        "# условие №1 - если этот актер есть в во временном списке cast_list ..\n",
        "# .. то перебираем вторых актеров во временном списке\n",
        "# если первый актер не совпадает со вторым актером (чтобы не возникло сочетания - (актер1, актер1) ..\n",
        "# .. то счетчик фиксирует такое сочетание\n",
        "for actor_first in list_actors:\n",
        "  for i in range(len(data)):\n",
        "    cast_list = data.iloc[i]['cast'].lower().split('|')\n",
        "    if actor_first in cast_list:\n",
        "      for actor_second in cast_list:\n",
        "        if actor_first != actor_second:\n",
        "          count_actors[(actor_first, actor_second)] += 1\n",
        "\n",
        "count_actors_df = pd.DataFrame.from_records(count_actors.most_common(), columns=['cast','count'])\n",
        "count_actors_df.head(10)"
      ],
      "execution_count": 74,
      "outputs": [
        {
          "output_type": "execute_result",
          "data": {
            "text/html": [
              "<div>\n",
              "<style scoped>\n",
              "    .dataframe tbody tr th:only-of-type {\n",
              "        vertical-align: middle;\n",
              "    }\n",
              "\n",
              "    .dataframe tbody tr th {\n",
              "        vertical-align: top;\n",
              "    }\n",
              "\n",
              "    .dataframe thead th {\n",
              "        text-align: right;\n",
              "    }\n",
              "</style>\n",
              "<table border=\"1\" class=\"dataframe\">\n",
              "  <thead>\n",
              "    <tr style=\"text-align: right;\">\n",
              "      <th></th>\n",
              "      <th>cast</th>\n",
              "      <th>count</th>\n",
              "    </tr>\n",
              "  </thead>\n",
              "  <tbody>\n",
              "    <tr>\n",
              "      <th>0</th>\n",
              "      <td>(emma watson, daniel radcliffe)</td>\n",
              "      <td>8</td>\n",
              "    </tr>\n",
              "    <tr>\n",
              "      <th>1</th>\n",
              "      <td>(emma watson, rupert grint)</td>\n",
              "      <td>8</td>\n",
              "    </tr>\n",
              "    <tr>\n",
              "      <th>2</th>\n",
              "      <td>(daniel radcliffe, rupert grint)</td>\n",
              "      <td>8</td>\n",
              "    </tr>\n",
              "    <tr>\n",
              "      <th>3</th>\n",
              "      <td>(daniel radcliffe, emma watson)</td>\n",
              "      <td>8</td>\n",
              "    </tr>\n",
              "    <tr>\n",
              "      <th>4</th>\n",
              "      <td>(rupert grint, daniel radcliffe)</td>\n",
              "      <td>8</td>\n",
              "    </tr>\n",
              "    <tr>\n",
              "      <th>5</th>\n",
              "      <td>(rupert grint, emma watson)</td>\n",
              "      <td>8</td>\n",
              "    </tr>\n",
              "    <tr>\n",
              "      <th>6</th>\n",
              "      <td>(owen wilson, ben stiller)</td>\n",
              "      <td>6</td>\n",
              "    </tr>\n",
              "    <tr>\n",
              "      <th>7</th>\n",
              "      <td>(johnny depp, helena bonham carter)</td>\n",
              "      <td>6</td>\n",
              "    </tr>\n",
              "    <tr>\n",
              "      <th>8</th>\n",
              "      <td>(ben stiller, owen wilson)</td>\n",
              "      <td>6</td>\n",
              "    </tr>\n",
              "    <tr>\n",
              "      <th>9</th>\n",
              "      <td>(helena bonham carter, johnny depp)</td>\n",
              "      <td>6</td>\n",
              "    </tr>\n",
              "  </tbody>\n",
              "</table>\n",
              "</div>"
            ],
            "text/plain": [
              "                                  cast  count\n",
              "0      (emma watson, daniel radcliffe)      8\n",
              "1          (emma watson, rupert grint)      8\n",
              "2     (daniel radcliffe, rupert grint)      8\n",
              "3      (daniel radcliffe, emma watson)      8\n",
              "4     (rupert grint, daniel radcliffe)      8\n",
              "5          (rupert grint, emma watson)      8\n",
              "6           (owen wilson, ben stiller)      6\n",
              "7  (johnny depp, helena bonham carter)      6\n",
              "8           (ben stiller, owen wilson)      6\n",
              "9  (helena bonham carter, johnny depp)      6"
            ]
          },
          "metadata": {
            "tags": []
          },
          "execution_count": 74
        }
      ]
    },
    {
      "cell_type": "code",
      "metadata": {
        "id": "aMCfz0uojZct",
        "colab_type": "code",
        "colab": {}
      },
      "source": [
        "answer_ls.append(5)"
      ],
      "execution_count": 75,
      "outputs": []
    },
    {
      "cell_type": "markdown",
      "metadata": {
        "id": "avfjT4w_-kKc",
        "colab_type": "text"
      },
      "source": [
        "# 36. У какого из режиссеров самый высокий процент фильмов со сборами выше бюджета?\n",
        "Варианты ответа:\n",
        "1. Quentin Tarantino\n",
        "2. Steven Soderbergh\n",
        "3. Robert Rodriguez\n",
        "4. Christopher Nolan\n",
        "5. Clint Eastwood"
      ]
    },
    {
      "cell_type": "code",
      "metadata": {
        "id": "n_zD9D4o-kKd",
        "colab_type": "code",
        "colab": {
          "base_uri": "https://localhost:8080/",
          "height": 359
        },
        "outputId": "2a4d4a19-a98b-44ae-e49f-fab573834a83"
      },
      "source": [
        "# два счетчика - сколько всего фильмов, сколько прибыльных фильмов\n",
        "count_movie = Counter()\n",
        "count_movie_profit = Counter()\n",
        "\n",
        "# ранее мы уже подсчитывали количество фильмов у режиссеров\n",
        "# здесь различие только в том, что потом идет проверка на прибыльность фильма\n",
        "for i in range(len(data)):\n",
        "  director_list = data.iloc[i]['director'].split('|')\n",
        "  for director in director_list:\n",
        "    count_movie[director] += 1\n",
        "    if data.iloc[i]['revenue'] > data.iloc[i]['budget']:\n",
        "      count_movie_profit[director] += 1\n",
        "\n",
        "# переводим в dataframe формат    \n",
        "count_movie_df = pd.DataFrame.from_records(count_movie.most_common(), columns=['director','count_movie'])\n",
        "count_movie_profit_df = pd.DataFrame.from_records(count_movie_profit.most_common(), columns=['director','count_profit_movie'])\n",
        "\n",
        "# объединяем полученные таблицы с целью расчета процента успешных фильмов\n",
        "director_count_movie = count_movie_df.merge(count_movie_profit_df, on='director', how='left')\n",
        "director_count_movie['ratio'] = director_count_movie.count_profit_movie/director_count_movie.count_movie * 100\n",
        "director_count_movie = director_count_movie.sort_values(['ratio', 'count_movie'], ascending=False)\n",
        "director_count_movie.head(10)"
      ],
      "execution_count": 77,
      "outputs": [
        {
          "output_type": "execute_result",
          "data": {
            "text/html": [
              "<div>\n",
              "<style scoped>\n",
              "    .dataframe tbody tr th:only-of-type {\n",
              "        vertical-align: middle;\n",
              "    }\n",
              "\n",
              "    .dataframe tbody tr th {\n",
              "        vertical-align: top;\n",
              "    }\n",
              "\n",
              "    .dataframe thead th {\n",
              "        text-align: right;\n",
              "    }\n",
              "</style>\n",
              "<table border=\"1\" class=\"dataframe\">\n",
              "  <thead>\n",
              "    <tr style=\"text-align: right;\">\n",
              "      <th></th>\n",
              "      <th>director</th>\n",
              "      <th>count_movie</th>\n",
              "      <th>count_profit_movie</th>\n",
              "      <th>ratio</th>\n",
              "    </tr>\n",
              "  </thead>\n",
              "  <tbody>\n",
              "    <tr>\n",
              "      <th>1</th>\n",
              "      <td>Ridley Scott</td>\n",
              "      <td>12</td>\n",
              "      <td>12.0</td>\n",
              "      <td>100.0</td>\n",
              "    </tr>\n",
              "    <tr>\n",
              "      <th>4</th>\n",
              "      <td>Steven Spielberg</td>\n",
              "      <td>10</td>\n",
              "      <td>10.0</td>\n",
              "      <td>100.0</td>\n",
              "    </tr>\n",
              "    <tr>\n",
              "      <th>8</th>\n",
              "      <td>Tim Burton</td>\n",
              "      <td>9</td>\n",
              "      <td>9.0</td>\n",
              "      <td>100.0</td>\n",
              "    </tr>\n",
              "    <tr>\n",
              "      <th>9</th>\n",
              "      <td>Antoine Fuqua</td>\n",
              "      <td>8</td>\n",
              "      <td>8.0</td>\n",
              "      <td>100.0</td>\n",
              "    </tr>\n",
              "    <tr>\n",
              "      <th>12</th>\n",
              "      <td>Christopher Nolan</td>\n",
              "      <td>8</td>\n",
              "      <td>8.0</td>\n",
              "      <td>100.0</td>\n",
              "    </tr>\n",
              "    <tr>\n",
              "      <th>13</th>\n",
              "      <td>Peter Jackson</td>\n",
              "      <td>8</td>\n",
              "      <td>8.0</td>\n",
              "      <td>100.0</td>\n",
              "    </tr>\n",
              "    <tr>\n",
              "      <th>14</th>\n",
              "      <td>Michael Bay</td>\n",
              "      <td>8</td>\n",
              "      <td>8.0</td>\n",
              "      <td>100.0</td>\n",
              "    </tr>\n",
              "    <tr>\n",
              "      <th>15</th>\n",
              "      <td>Brett Ratner</td>\n",
              "      <td>8</td>\n",
              "      <td>8.0</td>\n",
              "      <td>100.0</td>\n",
              "    </tr>\n",
              "    <tr>\n",
              "      <th>24</th>\n",
              "      <td>Francis Lawrence</td>\n",
              "      <td>6</td>\n",
              "      <td>6.0</td>\n",
              "      <td>100.0</td>\n",
              "    </tr>\n",
              "    <tr>\n",
              "      <th>25</th>\n",
              "      <td>Adam McKay</td>\n",
              "      <td>6</td>\n",
              "      <td>6.0</td>\n",
              "      <td>100.0</td>\n",
              "    </tr>\n",
              "  </tbody>\n",
              "</table>\n",
              "</div>"
            ],
            "text/plain": [
              "             director  count_movie  count_profit_movie  ratio\n",
              "1        Ridley Scott           12                12.0  100.0\n",
              "4    Steven Spielberg           10                10.0  100.0\n",
              "8          Tim Burton            9                 9.0  100.0\n",
              "9       Antoine Fuqua            8                 8.0  100.0\n",
              "12  Christopher Nolan            8                 8.0  100.0\n",
              "13      Peter Jackson            8                 8.0  100.0\n",
              "14        Michael Bay            8                 8.0  100.0\n",
              "15       Brett Ratner            8                 8.0  100.0\n",
              "24   Francis Lawrence            6                 6.0  100.0\n",
              "25         Adam McKay            6                 6.0  100.0"
            ]
          },
          "metadata": {
            "tags": []
          },
          "execution_count": 77
        }
      ]
    },
    {
      "cell_type": "code",
      "metadata": {
        "id": "hkznd-g5mM0W",
        "colab_type": "code",
        "colab": {}
      },
      "source": [
        "answer_ls.append(4)"
      ],
      "execution_count": 78,
      "outputs": []
    },
    {
      "cell_type": "markdown",
      "metadata": {
        "id": "Zi1VGadv-kKf",
        "colab_type": "text"
      },
      "source": [
        "# Submission"
      ]
    },
    {
      "cell_type": "code",
      "metadata": {
        "id": "AdhjpYDe-kKf",
        "colab_type": "code",
        "colab": {
          "base_uri": "https://localhost:8080/",
          "height": 35
        },
        "outputId": "bba330dc-4637-4584-af28-21a68b3083ad"
      },
      "source": [
        "len(answer_ls)"
      ],
      "execution_count": 80,
      "outputs": [
        {
          "output_type": "execute_result",
          "data": {
            "text/plain": [
              "36"
            ]
          },
          "metadata": {
            "tags": []
          },
          "execution_count": 80
        }
      ]
    },
    {
      "cell_type": "code",
      "metadata": {
        "id": "BCIEcJsk-kKj",
        "colab_type": "code",
        "colab": {
          "base_uri": "https://localhost:8080/",
          "height": 1000
        },
        "outputId": "b5320968-2232-4d48-8b53-49844fa120e5"
      },
      "source": [
        "pd.DataFrame({'Id':range(1,len(answer_ls)+1), 'Answer':answer_ls}, columns=['Id', 'Answer'])"
      ],
      "execution_count": 81,
      "outputs": [
        {
          "output_type": "execute_result",
          "data": {
            "text/html": [
              "<div>\n",
              "<style scoped>\n",
              "    .dataframe tbody tr th:only-of-type {\n",
              "        vertical-align: middle;\n",
              "    }\n",
              "\n",
              "    .dataframe tbody tr th {\n",
              "        vertical-align: top;\n",
              "    }\n",
              "\n",
              "    .dataframe thead th {\n",
              "        text-align: right;\n",
              "    }\n",
              "</style>\n",
              "<table border=\"1\" class=\"dataframe\">\n",
              "  <thead>\n",
              "    <tr style=\"text-align: right;\">\n",
              "      <th></th>\n",
              "      <th>Id</th>\n",
              "      <th>Answer</th>\n",
              "    </tr>\n",
              "  </thead>\n",
              "  <tbody>\n",
              "    <tr>\n",
              "      <th>0</th>\n",
              "      <td>1</td>\n",
              "      <td>4</td>\n",
              "    </tr>\n",
              "    <tr>\n",
              "      <th>1</th>\n",
              "      <td>2</td>\n",
              "      <td>2</td>\n",
              "    </tr>\n",
              "    <tr>\n",
              "      <th>2</th>\n",
              "      <td>3</td>\n",
              "      <td>3</td>\n",
              "    </tr>\n",
              "    <tr>\n",
              "      <th>3</th>\n",
              "      <td>4</td>\n",
              "      <td>2</td>\n",
              "    </tr>\n",
              "    <tr>\n",
              "      <th>4</th>\n",
              "      <td>5</td>\n",
              "      <td>1</td>\n",
              "    </tr>\n",
              "    <tr>\n",
              "      <th>5</th>\n",
              "      <td>6</td>\n",
              "      <td>5</td>\n",
              "    </tr>\n",
              "    <tr>\n",
              "      <th>6</th>\n",
              "      <td>7</td>\n",
              "      <td>2</td>\n",
              "    </tr>\n",
              "    <tr>\n",
              "      <th>7</th>\n",
              "      <td>8</td>\n",
              "      <td>1</td>\n",
              "    </tr>\n",
              "    <tr>\n",
              "      <th>8</th>\n",
              "      <td>9</td>\n",
              "      <td>4</td>\n",
              "    </tr>\n",
              "    <tr>\n",
              "      <th>9</th>\n",
              "      <td>10</td>\n",
              "      <td>5</td>\n",
              "    </tr>\n",
              "    <tr>\n",
              "      <th>10</th>\n",
              "      <td>11</td>\n",
              "      <td>3</td>\n",
              "    </tr>\n",
              "    <tr>\n",
              "      <th>11</th>\n",
              "      <td>12</td>\n",
              "      <td>1</td>\n",
              "    </tr>\n",
              "    <tr>\n",
              "      <th>12</th>\n",
              "      <td>13</td>\n",
              "      <td>3</td>\n",
              "    </tr>\n",
              "    <tr>\n",
              "      <th>13</th>\n",
              "      <td>14</td>\n",
              "      <td>4</td>\n",
              "    </tr>\n",
              "    <tr>\n",
              "      <th>14</th>\n",
              "      <td>15</td>\n",
              "      <td>5</td>\n",
              "    </tr>\n",
              "    <tr>\n",
              "      <th>15</th>\n",
              "      <td>16</td>\n",
              "      <td>1</td>\n",
              "    </tr>\n",
              "    <tr>\n",
              "      <th>16</th>\n",
              "      <td>17</td>\n",
              "      <td>3</td>\n",
              "    </tr>\n",
              "    <tr>\n",
              "      <th>17</th>\n",
              "      <td>18</td>\n",
              "      <td>3</td>\n",
              "    </tr>\n",
              "    <tr>\n",
              "      <th>18</th>\n",
              "      <td>19</td>\n",
              "      <td>2</td>\n",
              "    </tr>\n",
              "    <tr>\n",
              "      <th>19</th>\n",
              "      <td>20</td>\n",
              "      <td>1</td>\n",
              "    </tr>\n",
              "    <tr>\n",
              "      <th>20</th>\n",
              "      <td>21</td>\n",
              "      <td>4</td>\n",
              "    </tr>\n",
              "    <tr>\n",
              "      <th>21</th>\n",
              "      <td>22</td>\n",
              "      <td>2</td>\n",
              "    </tr>\n",
              "    <tr>\n",
              "      <th>22</th>\n",
              "      <td>23</td>\n",
              "      <td>3</td>\n",
              "    </tr>\n",
              "    <tr>\n",
              "      <th>23</th>\n",
              "      <td>24</td>\n",
              "      <td>1</td>\n",
              "    </tr>\n",
              "    <tr>\n",
              "      <th>24</th>\n",
              "      <td>25</td>\n",
              "      <td>5</td>\n",
              "    </tr>\n",
              "    <tr>\n",
              "      <th>25</th>\n",
              "      <td>26</td>\n",
              "      <td>1</td>\n",
              "    </tr>\n",
              "    <tr>\n",
              "      <th>26</th>\n",
              "      <td>27</td>\n",
              "      <td>4</td>\n",
              "    </tr>\n",
              "    <tr>\n",
              "      <th>27</th>\n",
              "      <td>28</td>\n",
              "      <td>2</td>\n",
              "    </tr>\n",
              "    <tr>\n",
              "      <th>28</th>\n",
              "      <td>29</td>\n",
              "      <td>5</td>\n",
              "    </tr>\n",
              "    <tr>\n",
              "      <th>29</th>\n",
              "      <td>30</td>\n",
              "      <td>2</td>\n",
              "    </tr>\n",
              "    <tr>\n",
              "      <th>30</th>\n",
              "      <td>31</td>\n",
              "      <td>5</td>\n",
              "    </tr>\n",
              "    <tr>\n",
              "      <th>31</th>\n",
              "      <td>32</td>\n",
              "      <td>5</td>\n",
              "    </tr>\n",
              "    <tr>\n",
              "      <th>32</th>\n",
              "      <td>33</td>\n",
              "      <td>3</td>\n",
              "    </tr>\n",
              "    <tr>\n",
              "      <th>33</th>\n",
              "      <td>34</td>\n",
              "      <td>1</td>\n",
              "    </tr>\n",
              "    <tr>\n",
              "      <th>34</th>\n",
              "      <td>35</td>\n",
              "      <td>5</td>\n",
              "    </tr>\n",
              "    <tr>\n",
              "      <th>35</th>\n",
              "      <td>36</td>\n",
              "      <td>4</td>\n",
              "    </tr>\n",
              "  </tbody>\n",
              "</table>\n",
              "</div>"
            ],
            "text/plain": [
              "    Id  Answer\n",
              "0    1       4\n",
              "1    2       2\n",
              "2    3       3\n",
              "3    4       2\n",
              "4    5       1\n",
              "5    6       5\n",
              "6    7       2\n",
              "7    8       1\n",
              "8    9       4\n",
              "9   10       5\n",
              "10  11       3\n",
              "11  12       1\n",
              "12  13       3\n",
              "13  14       4\n",
              "14  15       5\n",
              "15  16       1\n",
              "16  17       3\n",
              "17  18       3\n",
              "18  19       2\n",
              "19  20       1\n",
              "20  21       4\n",
              "21  22       2\n",
              "22  23       3\n",
              "23  24       1\n",
              "24  25       5\n",
              "25  26       1\n",
              "26  27       4\n",
              "27  28       2\n",
              "28  29       5\n",
              "29  30       2\n",
              "30  31       5\n",
              "31  32       5\n",
              "32  33       3\n",
              "33  34       1\n",
              "34  35       5\n",
              "35  36       4"
            ]
          },
          "metadata": {
            "tags": []
          },
          "execution_count": 81
        }
      ]
    },
    {
      "cell_type": "code",
      "metadata": {
        "id": "DvmIO0mv-kKl",
        "colab_type": "code",
        "colab": {}
      },
      "source": [
        ""
      ],
      "execution_count": 59,
      "outputs": []
    },
    {
      "cell_type": "code",
      "metadata": {
        "id": "Yft7V7Bv-kKn",
        "colab_type": "code",
        "colab": {}
      },
      "source": [
        ""
      ],
      "execution_count": 59,
      "outputs": []
    }
  ]
}