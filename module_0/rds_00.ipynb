{
  "nbformat": 4,
  "nbformat_minor": 0,
  "metadata": {
    "colab": {
      "name": "rds_00.ipynb",
      "provenance": [],
      "collapsed_sections": []
    },
    "kernelspec": {
      "name": "python3",
      "display_name": "Python 3"
    }
  },
  "cells": [
    {
      "cell_type": "code",
      "metadata": {
        "id": "LeDQcvhyTNzI",
        "colab_type": "code",
        "colab": {
          "base_uri": "https://localhost:8080/",
          "height": 53
        },
        "outputId": "72158745-f12d-40f8-d5be-57023e279de6"
      },
      "source": [
        "import numpy as np\n",
        "\n",
        "def game_core(number, start, end):\n",
        "    '''Первая попытка угадать это любое random число, а далее используем \"Divide-and-conquer algorithm\" - отсекаем на каждом шаге половину данных, приписывая предсказания в правую\\левую часть массива'''\n",
        "    # задаем верхнюю и нижнюю границы массива\n",
        "    left = start-1\n",
        "    right = end-1\n",
        "\n",
        "    # первое предсказание случайное в заданном диапазоне\n",
        "    count = 1\n",
        "    predict = np.random.randint(start,end+1)\n",
        "\n",
        "    # условие работы цикла (пока не сойдутся граница массивы и точного предсказания не найдено)\n",
        "    while left <= right and number != predict:\n",
        "      count+=1\n",
        "      # делим пополам заданный массив\n",
        "      predict = (left + right) // 2\n",
        "      if number > predict: \n",
        "            left = predict + 1 \n",
        "      elif number < predict: \n",
        "            right = predict - 1\n",
        "    return(count) # выход из цикла, если угадали\n",
        "\n",
        "\n",
        "def score_game(game_core, start=1, end=100):\n",
        "    '''Генерация 1000 экспериментов в целях нахождения среднего числа попыток перед тем как угадать'''\n",
        "    count_ls = []\n",
        "    np.random.seed(1)  # фиксируем RANDOM SEED, чтобы ваш эксперимент был воспроизводим!\n",
        "    random_array = np.random.randint(start,end+1, size=(1000))\n",
        "    for number in random_array:\n",
        "        count_ls.append(game_core(number, start, end))\n",
        "    score = int(np.mean(count_ls))\n",
        "    print(f\"Ваш алгоритм угадывает число в среднем за {score} попыток\")\n",
        "    return(score)\n",
        "\n",
        "\n",
        "\n",
        "# Проверяем\n",
        "score_game(game_core, 1, 100)"
      ],
      "execution_count": 54,
      "outputs": [
        {
          "output_type": "stream",
          "text": [
            "Ваш алгоритм угадывает число в среднем за 6 попыток\n"
          ],
          "name": "stdout"
        },
        {
          "output_type": "execute_result",
          "data": {
            "text/plain": [
              "6"
            ]
          },
          "metadata": {
            "tags": []
          },
          "execution_count": 54
        }
      ]
    },
    {
      "cell_type": "code",
      "metadata": {
        "id": "MGPKkV_DTTaU",
        "colab_type": "code",
        "colab": {}
      },
      "source": [
        ""
      ],
      "execution_count": null,
      "outputs": []
    }
  ]
}